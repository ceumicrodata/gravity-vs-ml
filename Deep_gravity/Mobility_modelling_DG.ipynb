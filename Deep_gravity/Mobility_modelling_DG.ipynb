{
 "cells": [
  {
   "attachments": {},
   "cell_type": "markdown",
   "metadata": {},
   "source": [
    "# This notebook runs the Deep Gravity model on the yearly mobility prediction dataset"
   ]
  },
  {
   "cell_type": "code",
   "execution_count": 3,
   "metadata": {},
   "outputs": [],
   "source": [
    "import numpy as np\n",
    "import pandas as pd\n",
    "import io\n",
    "import requests"
   ]
  },
  {
   "cell_type": "code",
   "execution_count": 12,
   "metadata": {},
   "outputs": [],
   "source": [
    "###################\n",
    "# Get output area json\n",
    "###################\n",
    "\n",
    "overpass_url = \"https://overpass-api.de/api/interpreter\"\n",
    "\n",
    "# Residential lines\n",
    "overpass_query = f\"\"\"\n",
    "[out:json];\n",
    "rel[boundary=administrative][admin_level=4][\"ISO3166-2\"~\"^US\"];\n",
    "out body;\n",
    "\"\"\"\n",
    "response = requests.get(overpass_url, params={'data': overpass_query})\n",
    "state_list = response.json()['elements']\n",
    "\n",
    "# Not states:\n",
    "# American Samoa, District of Columbia,\n",
    "# Guam, Northern Mariana Islands,\n",
    "# Puerto Rico, United States Virgin Islands\n",
    "\"\"\"\n",
    "state_list = [i for i in state_list if (i['tags']['ref:fips'] != ) &\n",
    "                                        (i['tags']['ref:fips'] != ) &\n",
    "                                        (i['tags']['ref:fips'] != ) &\n",
    "                                        (i['tags']['ref:fips'] != ) &\n",
    "                                        (i['tags']['ref:fips'] != ) &\n",
    "                                        (i['tags']['ref:fips'] != ) &]\n",
    "\"\"\""
   ]
  },
  {
   "cell_type": "code",
   "execution_count": null,
   "metadata": {},
   "outputs": [],
   "source": []
  }
 ],
 "metadata": {
  "kernelspec": {
   "display_name": "Python 3",
   "language": "python",
   "name": "python3"
  },
  "language_info": {
   "codemirror_mode": {
    "name": "ipython",
    "version": 3
   },
   "file_extension": ".py",
   "mimetype": "text/x-python",
   "name": "python",
   "nbconvert_exporter": "python",
   "pygments_lexer": "ipython3",
   "version": "3.10.2 (main, Mar  4 2022, 19:00:46) [Clang 12.0.0 (clang-1200.0.32.29)]"
  },
  "orig_nbformat": 4,
  "vscode": {
   "interpreter": {
    "hash": "bac1c141dd677d21aa3d7e112522370869da97ef62e316f915c40dc907532f18"
   }
  }
 },
 "nbformat": 4,
 "nbformat_minor": 2
}
