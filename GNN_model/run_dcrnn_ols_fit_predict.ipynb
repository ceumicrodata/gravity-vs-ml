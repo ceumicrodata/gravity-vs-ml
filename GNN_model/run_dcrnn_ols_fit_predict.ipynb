{
 "cells": [
  {
   "cell_type": "code",
   "execution_count": 1,
   "metadata": {},
   "outputs": [],
   "source": [
    "%reload_ext autoreload\n",
    "%autoreload 2"
   ]
  },
  {
   "cell_type": "code",
   "execution_count": 2,
   "metadata": {},
   "outputs": [],
   "source": [
    "from DCRNN_OLS import DataTransformerParameters, NeuralNetworkParameters, DCRNNEdgeEstimator\n",
    "import pandas as pd\n",
    "import numpy as np\n",
    "import torch\n",
    "from torch import nn"
   ]
  },
  {
   "cell_type": "code",
   "execution_count": 3,
   "outputs": [],
   "source": [
    "def mse(predictions: pd.Series, targets: pd.Series) -> float:\n",
    "    return float(np.mean((predictions-targets)**2))\n",
    "\n",
    "def mae(predictions: pd.Series, targets: pd.Series) -> float:\n",
    "    return float(np.mean(np.abs(predictions-targets)))\n",
    "\n",
    "def rmse(predictions: pd.Series, targets: pd.Series) -> float:\n",
    "    return np.sqrt(mse(predictions,targets))\n",
    "\n",
    "def rmae(predictions: pd.Series, targets: pd.Series) -> float:\n",
    "    return mae(predictions,targets)/np.mean(targets)\n",
    "\n",
    "def r2(predictions: pd.Series, targets: pd.Series) -> float:\n",
    "    y_mean = np.mean(targets)\n",
    "    sst = np.sum((targets-y_mean)**2)\n",
    "    ssr = np.sum((targets-predictions)**2)\n",
    "    return 1-ssr/sst"
   ],
   "metadata": {
    "collapsed": false
   }
  },
  {
   "cell_type": "code",
   "execution_count": 5,
   "outputs": [
    {
     "name": "stderr",
     "output_type": "stream",
     "text": [
      "Compiling features: 100%|██████████| 4/4 [00:00<00:00, 13.00it/s]\n",
      "Compiling targets: 100%|██████████| 4/4 [00:40<00:00, 10.13s/it]\n",
      "Optimization with backpropagation. Current loss: 6.9428: 100%|██████████| 500/500 [05:49<00:00,  1.43it/s] \n",
      "Compiling features: 100%|██████████| 1/1 [00:00<00:00, 12.64it/s]\n",
      "Compiling targets: 100%|██████████| 1/1 [00:09<00:00,  9.53s/it]\n"
     ]
    },
    {
     "name": "stdout",
     "output_type": "stream",
     "text": [
      "RMAE for 2002 is 0.24077334853302124\n"
     ]
    },
    {
     "name": "stderr",
     "output_type": "stream",
     "text": [
      "Compiling features: 100%|██████████| 4/4 [00:00<00:00, 12.92it/s]\n",
      "Compiling targets: 100%|██████████| 4/4 [00:40<00:00, 10.08s/it]\n",
      "Optimization with backpropagation. Current loss: 7.6348: 100%|██████████| 500/500 [05:42<00:00,  1.46it/s] \n",
      "Compiling features: 100%|██████████| 1/1 [00:00<00:00, 13.11it/s]\n",
      "Compiling targets: 100%|██████████| 1/1 [00:09<00:00,  9.35s/it]\n"
     ]
    },
    {
     "name": "stdout",
     "output_type": "stream",
     "text": [
      "RMAE for 2003 is 0.33033458665631127\n"
     ]
    },
    {
     "name": "stderr",
     "output_type": "stream",
     "text": [
      "Compiling features: 100%|██████████| 4/4 [00:00<00:00, 13.36it/s]\n",
      "Compiling targets: 100%|██████████| 4/4 [00:40<00:00, 10.20s/it]\n",
      "Optimization with backpropagation. Current loss: 8.2545: 100%|██████████| 500/500 [05:45<00:00,  1.45it/s] \n",
      "Compiling features: 100%|██████████| 1/1 [00:00<00:00, 12.60it/s]\n",
      "Compiling targets: 100%|██████████| 1/1 [00:09<00:00,  9.47s/it]\n"
     ]
    },
    {
     "name": "stdout",
     "output_type": "stream",
     "text": [
      "RMAE for 2004 is 0.59618592176227\n"
     ]
    },
    {
     "name": "stderr",
     "output_type": "stream",
     "text": [
      "Compiling features: 100%|██████████| 4/4 [00:00<00:00, 13.49it/s]\n",
      "Compiling targets: 100%|██████████| 4/4 [00:41<00:00, 10.32s/it]\n",
      "Optimization with backpropagation. Current loss: 7.8916: 100%|██████████| 500/500 [05:49<00:00,  1.43it/s] \n",
      "Compiling features: 100%|██████████| 1/1 [00:00<00:00, 11.26it/s]\n",
      "Compiling targets: 100%|██████████| 1/1 [00:09<00:00,  9.48s/it]\n"
     ]
    },
    {
     "name": "stdout",
     "output_type": "stream",
     "text": [
      "RMAE for 2005 is 0.522006920136278\n"
     ]
    },
    {
     "name": "stderr",
     "output_type": "stream",
     "text": [
      "Compiling features: 100%|██████████| 4/4 [00:00<00:00, 13.62it/s]\n",
      "Compiling targets: 100%|██████████| 4/4 [00:40<00:00, 10.12s/it]\n",
      "Optimization with backpropagation. Current loss: 7.8307: 100%|██████████| 500/500 [05:42<00:00,  1.46it/s] \n",
      "Compiling features: 100%|██████████| 1/1 [00:00<00:00, 13.72it/s]\n",
      "Compiling targets: 100%|██████████| 1/1 [00:09<00:00,  9.36s/it]\n"
     ]
    },
    {
     "name": "stdout",
     "output_type": "stream",
     "text": [
      "RMAE for 2006 is 0.530205279564763\n"
     ]
    },
    {
     "name": "stderr",
     "output_type": "stream",
     "text": [
      "Compiling features: 100%|██████████| 4/4 [00:00<00:00, 13.47it/s]\n",
      "Compiling targets: 100%|██████████| 4/4 [00:40<00:00, 10.07s/it]\n",
      "Optimization with backpropagation. Current loss: 7.8952: 100%|██████████| 500/500 [05:36<00:00,  1.48it/s] \n",
      "Compiling features: 100%|██████████| 1/1 [00:00<00:00, 13.04it/s]\n",
      "Compiling targets: 100%|██████████| 1/1 [00:09<00:00,  9.42s/it]\n"
     ]
    },
    {
     "name": "stdout",
     "output_type": "stream",
     "text": [
      "RMAE for 2007 is 0.5066405529688327\n"
     ]
    },
    {
     "name": "stderr",
     "output_type": "stream",
     "text": [
      "Compiling features: 100%|██████████| 4/4 [00:00<00:00, 13.42it/s]\n",
      "Compiling targets: 100%|██████████| 4/4 [00:40<00:00, 10.23s/it]\n",
      "Optimization with backpropagation. Current loss: 6.7455: 100%|██████████| 500/500 [05:37<00:00,  1.48it/s] \n",
      "Compiling features: 100%|██████████| 1/1 [00:00<00:00, 13.65it/s]\n",
      "Compiling targets: 100%|██████████| 1/1 [00:09<00:00,  9.42s/it]\n"
     ]
    },
    {
     "name": "stdout",
     "output_type": "stream",
     "text": [
      "RMAE for 2008 is 0.21120081639116658\n"
     ]
    },
    {
     "name": "stderr",
     "output_type": "stream",
     "text": [
      "Compiling features: 100%|██████████| 4/4 [00:00<00:00, 13.52it/s]\n",
      "Compiling targets: 100%|██████████| 4/4 [00:40<00:00, 10.01s/it]\n",
      "Optimization with backpropagation. Current loss: 7.5514: 100%|██████████| 500/500 [05:36<00:00,  1.49it/s] \n",
      "Compiling features: 100%|██████████| 1/1 [00:00<00:00, 13.64it/s]\n",
      "Compiling targets: 100%|██████████| 1/1 [00:09<00:00,  9.37s/it]\n"
     ]
    },
    {
     "name": "stdout",
     "output_type": "stream",
     "text": [
      "RMAE for 2009 is 0.24665746027603114\n"
     ]
    },
    {
     "name": "stderr",
     "output_type": "stream",
     "text": [
      "Compiling features: 100%|██████████| 4/4 [00:00<00:00, 13.84it/s]\n",
      "Compiling targets: 100%|██████████| 4/4 [00:40<00:00, 10.05s/it]\n",
      "Optimization with backpropagation. Current loss: 7.4715: 100%|██████████| 500/500 [05:37<00:00,  1.48it/s] \n",
      "Compiling features: 100%|██████████| 1/1 [00:00<00:00, 13.36it/s]\n",
      "Compiling targets: 100%|██████████| 1/1 [00:09<00:00,  9.35s/it]\n"
     ]
    },
    {
     "name": "stdout",
     "output_type": "stream",
     "text": [
      "RMAE for 2010 is 0.4859605414048886\n"
     ]
    },
    {
     "name": "stderr",
     "output_type": "stream",
     "text": [
      "Compiling features: 100%|██████████| 4/4 [00:00<00:00, 13.36it/s]\n",
      "Compiling targets: 100%|██████████| 4/4 [00:40<00:00, 10.03s/it]\n",
      "Optimization with backpropagation. Current loss: 7.4004: 100%|██████████| 500/500 [05:36<00:00,  1.48it/s] \n",
      "Compiling features: 100%|██████████| 1/1 [00:00<00:00, 12.87it/s]\n",
      "Compiling targets: 100%|██████████| 1/1 [00:09<00:00,  9.51s/it]\n"
     ]
    },
    {
     "name": "stdout",
     "output_type": "stream",
     "text": [
      "RMAE for 2011 is 0.5065687483152598\n"
     ]
    },
    {
     "name": "stderr",
     "output_type": "stream",
     "text": [
      "Compiling features: 100%|██████████| 4/4 [00:00<00:00, 13.75it/s]\n",
      "Compiling targets: 100%|██████████| 4/4 [00:40<00:00, 10.13s/it]\n",
      "Optimization with backpropagation. Current loss: 8.0651: 100%|██████████| 500/500 [05:37<00:00,  1.48it/s] \n",
      "Compiling features: 100%|██████████| 1/1 [00:00<00:00, 12.92it/s]\n",
      "Compiling targets: 100%|██████████| 1/1 [00:09<00:00,  9.57s/it]\n"
     ]
    },
    {
     "name": "stdout",
     "output_type": "stream",
     "text": [
      "RMAE for 2012 is 0.48061483653733444\n"
     ]
    },
    {
     "name": "stderr",
     "output_type": "stream",
     "text": [
      "Compiling features: 100%|██████████| 4/4 [00:00<00:00, 13.79it/s]\n",
      "Compiling targets: 100%|██████████| 4/4 [00:39<00:00,  9.98s/it]\n",
      "Optimization with backpropagation. Current loss: 7.1572: 100%|██████████| 500/500 [05:37<00:00,  1.48it/s] \n",
      "Compiling features: 100%|██████████| 1/1 [00:00<00:00, 13.16it/s]\n",
      "Compiling targets: 100%|██████████| 1/1 [00:09<00:00,  9.42s/it]\n"
     ]
    },
    {
     "name": "stdout",
     "output_type": "stream",
     "text": [
      "RMAE for 2013 is 0.47221326017283327\n"
     ]
    },
    {
     "name": "stderr",
     "output_type": "stream",
     "text": [
      "Compiling features: 100%|██████████| 4/4 [00:00<00:00, 13.38it/s]\n",
      "Compiling targets: 100%|██████████| 4/4 [00:40<00:00, 10.10s/it]\n",
      "Optimization with backpropagation. Current loss: 7.0381: 100%|██████████| 500/500 [05:37<00:00,  1.48it/s] \n",
      "Compiling features: 100%|██████████| 1/1 [00:00<00:00, 13.59it/s]\n",
      "Compiling targets: 100%|██████████| 1/1 [00:09<00:00,  9.58s/it]\n"
     ]
    },
    {
     "name": "stdout",
     "output_type": "stream",
     "text": [
      "RMAE for 2014 is 0.4197329013227777\n"
     ]
    },
    {
     "name": "stderr",
     "output_type": "stream",
     "text": [
      "Compiling features: 100%|██████████| 4/4 [00:00<00:00, 13.35it/s]\n",
      "Compiling targets: 100%|██████████| 4/4 [00:40<00:00, 10.17s/it]\n",
      "Optimization with backpropagation. Current loss: 5.7818: 100%|██████████| 500/500 [05:37<00:00,  1.48it/s] \n",
      "Compiling features: 100%|██████████| 1/1 [00:00<00:00, 13.14it/s]\n",
      "Compiling targets: 100%|██████████| 1/1 [00:09<00:00,  9.49s/it]\n"
     ]
    },
    {
     "name": "stdout",
     "output_type": "stream",
     "text": [
      "RMAE for 2015 is 0.33730789908641473\n"
     ]
    },
    {
     "name": "stderr",
     "output_type": "stream",
     "text": [
      "Compiling features: 100%|██████████| 4/4 [00:00<00:00, 13.66it/s]\n",
      "Compiling targets: 100%|██████████| 4/4 [00:40<00:00, 10.05s/it]\n",
      "Optimization with backpropagation. Current loss: 5.6461: 100%|██████████| 500/500 [05:36<00:00,  1.49it/s] \n",
      "Compiling features: 100%|██████████| 1/1 [00:00<00:00, 13.22it/s]\n",
      "Compiling targets: 100%|██████████| 1/1 [00:09<00:00,  9.43s/it]\n"
     ]
    },
    {
     "name": "stdout",
     "output_type": "stream",
     "text": [
      "RMAE for 2016 is 0.2771363895286824\n"
     ]
    },
    {
     "name": "stderr",
     "output_type": "stream",
     "text": [
      "Compiling features: 100%|██████████| 4/4 [00:00<00:00, 13.44it/s]\n",
      "Compiling targets: 100%|██████████| 4/4 [00:40<00:00, 10.15s/it]\n",
      "Optimization with backpropagation. Current loss: 6.9492: 100%|██████████| 500/500 [05:37<00:00,  1.48it/s] \n",
      "Compiling features: 100%|██████████| 1/1 [00:00<00:00, 13.50it/s]\n",
      "Compiling targets: 100%|██████████| 1/1 [00:09<00:00,  9.54s/it]\n"
     ]
    },
    {
     "name": "stdout",
     "output_type": "stream",
     "text": [
      "RMAE for 2017 is 0.51392138001422\n"
     ]
    },
    {
     "name": "stderr",
     "output_type": "stream",
     "text": [
      "Compiling features: 100%|██████████| 4/4 [00:00<00:00, 13.44it/s]\n",
      "Compiling targets: 100%|██████████| 4/4 [00:40<00:00, 10.15s/it]\n",
      "Optimization with backpropagation. Current loss: 7.2291: 100%|██████████| 500/500 [05:37<00:00,  1.48it/s] \n",
      "Compiling features: 100%|██████████| 1/1 [00:00<00:00, 13.80it/s]\n",
      "Compiling targets: 100%|██████████| 1/1 [00:09<00:00,  9.57s/it]\n"
     ]
    },
    {
     "name": "stdout",
     "output_type": "stream",
     "text": [
      "RMAE for 2018 is 0.5324314488153453\n"
     ]
    },
    {
     "name": "stderr",
     "output_type": "stream",
     "text": [
      "Compiling features: 100%|██████████| 4/4 [00:00<00:00, 13.18it/s]\n",
      "Compiling targets: 100%|██████████| 4/4 [00:40<00:00, 10.09s/it]\n",
      "Optimization with backpropagation. Current loss: 7.7646: 100%|██████████| 500/500 [05:37<00:00,  1.48it/s] \n",
      "Compiling features: 100%|██████████| 1/1 [00:00<00:00, 13.15it/s]\n",
      "Compiling targets: 100%|██████████| 1/1 [00:09<00:00,  9.46s/it]"
     ]
    },
    {
     "name": "stdout",
     "output_type": "stream",
     "text": [
      "RMAE for 2019 is 0.5171642488331122\n"
     ]
    },
    {
     "name": "stderr",
     "output_type": "stream",
     "text": [
      "\n"
     ]
    }
   ],
   "source": [
    "edges = pd.read_csv('../Output_datasets/Yearly_trade_data_prediction/trade_edgelist.csv')\n",
    "nodes = pd.read_csv('../Output_datasets/Yearly_trade_data_prediction/trade_nodelist.csv')\n",
    "predyears = range(2002, 2020)\n",
    "for predyear in predyears:\n",
    "    dt_params = DataTransformerParameters('minmax')\n",
    "    nn_params = NeuralNetworkParameters(nn.MSELoss, torch.optim.Adam, 0.01, 6, 500, 42)\n",
    "    model = DCRNNEdgeEstimator(nn_params,dt_params)\n",
    "    model.fit((edges, nodes, predyear-5, predyear-1), 'trade')\n",
    "    predictions = model.trade_post_predict_transform(model.predict((edges, nodes, [predyear]),'trade'), (edges, nodes, [predyear]))\n",
    "    print(f\"RMAE for {predyear} is {rmae(predictions.prediction, predictions.target)}\")\n",
    "    predictions.to_csv(f\"predictions_{predyear}.csv\", index=False)"
   ],
   "metadata": {
    "collapsed": false
   }
  },
  {
   "cell_type": "code",
   "execution_count": 6,
   "outputs": [],
   "source": [
    "data = pd.concat([pd.read_csv(f'predictions_{year}.csv') for year in predyears])"
   ],
   "metadata": {
    "collapsed": false
   }
  },
  {
   "cell_type": "code",
   "execution_count": 11,
   "outputs": [],
   "source": [
    "data.to_csv(\"DCRNN_OLS_predictions.csv\", index=False)"
   ],
   "metadata": {
    "collapsed": false
   }
  },
  {
   "cell_type": "code",
   "execution_count": null,
   "outputs": [],
   "source": [],
   "metadata": {
    "collapsed": false
   }
  }
 ],
 "metadata": {
  "kernelspec": {
   "display_name": "Python 3.9.13 ('alteo-ghi-sim-_r_Z88UJ')",
   "language": "python",
   "name": "python3"
  },
  "language_info": {
   "codemirror_mode": {
    "name": "ipython",
    "version": 3
   },
   "file_extension": ".py",
   "mimetype": "text/x-python",
   "name": "python",
   "nbconvert_exporter": "python",
   "pygments_lexer": "ipython3",
   "version": "3.9.13"
  },
  "orig_nbformat": 4,
  "vscode": {
   "interpreter": {
    "hash": "556135bef58bea183c0be3f19805670afe42fd80c5434eb34a78da166f5d6b0b"
   }
  }
 },
 "nbformat": 4,
 "nbformat_minor": 2
}
