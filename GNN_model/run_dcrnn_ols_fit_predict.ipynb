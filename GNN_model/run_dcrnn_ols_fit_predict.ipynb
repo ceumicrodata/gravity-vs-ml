{
 "cells": [
  {
   "cell_type": "code",
   "execution_count": 1,
   "metadata": {
    "ExecuteTime": {
     "start_time": "2023-04-20T11:10:09.103567Z",
     "end_time": "2023-04-20T11:10:09.122414Z"
    }
   },
   "outputs": [],
   "source": [
    "%reload_ext autoreload\n",
    "%autoreload 2"
   ]
  },
  {
   "cell_type": "code",
   "execution_count": 2,
   "metadata": {
    "ExecuteTime": {
     "start_time": "2023-04-20T11:10:09.121656Z",
     "end_time": "2023-04-20T11:10:13.782083Z"
    }
   },
   "outputs": [],
   "source": [
    "from DCRNN_OLS import DataTransformerParameters, NeuralNetworkParameters, DCRNNEdgeEstimator\n",
    "import pandas as pd\n",
    "import numpy as np\n",
    "import torch\n",
    "from torch import nn"
   ]
  },
  {
   "cell_type": "code",
   "execution_count": 3,
   "outputs": [],
   "source": [
    "def mse(predictions: pd.Series, targets: pd.Series) -> float:\n",
    "    return float(np.mean((predictions-targets)**2))\n",
    "\n",
    "def mae(predictions: pd.Series, targets: pd.Series) -> float:\n",
    "    return float(np.mean(np.abs(predictions-targets)))\n",
    "\n",
    "def rmse(predictions: pd.Series, targets: pd.Series) -> float:\n",
    "    return np.sqrt(mse(predictions,targets))\n",
    "\n",
    "def rmae(predictions: pd.Series, targets: pd.Series) -> float:\n",
    "    return mae(predictions,targets)/np.mean(targets)\n",
    "\n",
    "def r2(predictions: pd.Series, targets: pd.Series) -> float:\n",
    "    y_mean = np.mean(targets)\n",
    "    sst = np.sum((targets-y_mean)**2)\n",
    "    ssr = np.sum((targets-predictions)**2)\n",
    "    return 1-ssr/sst"
   ],
   "metadata": {
    "collapsed": false,
    "ExecuteTime": {
     "start_time": "2023-04-20T11:10:13.784711Z",
     "end_time": "2023-04-20T11:10:13.899180Z"
    }
   }
  },
  {
   "cell_type": "markdown",
   "source": [
    "RMAE for 2002 is 0.08999155775011605\n",
    "RMAE for 2003 is 0.09710349875431454\n",
    "RMAE for 2004 is 0.12698926381601175\n",
    "RMAE for 2005 is 0.522006920136278\n",
    "RMAE for 2006 is 0.530205279564763\n",
    "RMAE for 2007 is 0.5066405529688327\n",
    "RMAE for 2008 is 0.21120081639116658\n",
    "RMAE for 2009 is 0.24665746027603114\n",
    "RMAE for 2010 is 0.4859605414048886\n",
    "RMAE for 2011 is 0.5065687483152598\n",
    "RMAE for 2012 is 0.48061483653733444"
   ],
   "metadata": {
    "collapsed": false
   }
  },
  {
   "cell_type": "code",
   "execution_count": 14,
   "outputs": [
    {
     "name": "stderr",
     "output_type": "stream",
     "text": [
      "Compiling features: 100%|██████████| 4/4 [00:00<00:00, 10.91it/s]\n",
      "Compiling targets: 100%|██████████| 4/4 [00:40<00:00, 10.20s/it]\n",
      "Optimization with backpropagation. Current loss: 1.2585: 100%|██████████| 500/500 [05:47<00:00,  1.44it/s]\n",
      "Compiling features: 100%|██████████| 1/1 [00:00<00:00, 13.08it/s]\n",
      "Compiling targets: 100%|██████████| 1/1 [00:09<00:00,  9.19s/it]\n"
     ]
    },
    {
     "name": "stdout",
     "output_type": "stream",
     "text": [
      "RMAE for 2000 is 0.15123585638435036\n"
     ]
    },
    {
     "name": "stderr",
     "output_type": "stream",
     "text": [
      "Compiling features: 100%|██████████| 4/4 [00:00<00:00, 12.75it/s]\n",
      "Compiling targets: 100%|██████████| 4/4 [00:39<00:00,  9.89s/it]\n",
      "Optimization with backpropagation. Current loss: 1.2219: 100%|██████████| 500/500 [05:41<00:00,  1.46it/s]\n",
      "Compiling features: 100%|██████████| 1/1 [00:00<00:00, 12.81it/s]\n",
      "Compiling targets: 100%|██████████| 1/1 [00:09<00:00,  9.23s/it]\n"
     ]
    },
    {
     "name": "stdout",
     "output_type": "stream",
     "text": [
      "RMAE for 2001 is 0.3392673616530701\n"
     ]
    },
    {
     "name": "stderr",
     "output_type": "stream",
     "text": [
      "Compiling features: 100%|██████████| 4/4 [00:00<00:00, 11.76it/s]\n",
      "Compiling targets: 100%|██████████| 4/4 [00:39<00:00,  9.85s/it]\n",
      "Optimization with backpropagation. Current loss: 1.1644: 100%|██████████| 500/500 [05:53<00:00,  1.41it/s]\n",
      "Compiling features: 100%|██████████| 1/1 [00:00<00:00, 13.20it/s]\n",
      "Compiling targets: 100%|██████████| 1/1 [00:09<00:00,  9.18s/it]\n"
     ]
    },
    {
     "name": "stdout",
     "output_type": "stream",
     "text": [
      "RMAE for 2002 is 0.12449615027551351\n"
     ]
    },
    {
     "name": "stderr",
     "output_type": "stream",
     "text": [
      "Compiling features: 100%|██████████| 4/4 [00:00<00:00, 13.47it/s]\n",
      "Compiling targets: 100%|██████████| 4/4 [00:39<00:00,  9.94s/it]\n",
      "Optimization with backpropagation. Current loss: 1.1973: 100%|██████████| 500/500 [05:40<00:00,  1.47it/s]\n",
      "Compiling features: 100%|██████████| 1/1 [00:00<00:00, 13.46it/s]\n",
      "Compiling targets: 100%|██████████| 1/1 [00:09<00:00,  9.21s/it]\n"
     ]
    },
    {
     "name": "stdout",
     "output_type": "stream",
     "text": [
      "RMAE for 2003 is 0.14631395509013395\n"
     ]
    },
    {
     "name": "stderr",
     "output_type": "stream",
     "text": [
      "Compiling features: 100%|██████████| 4/4 [00:00<00:00, 13.58it/s]\n",
      "Compiling targets: 100%|██████████| 4/4 [00:39<00:00,  9.97s/it]\n",
      "Optimization with backpropagation. Current loss: 1.2107: 100%|██████████| 500/500 [05:41<00:00,  1.46it/s]\n",
      "Compiling features: 100%|██████████| 1/1 [00:00<00:00, 13.38it/s]\n",
      "Compiling targets: 100%|██████████| 1/1 [00:09<00:00,  9.28s/it]\n"
     ]
    },
    {
     "name": "stdout",
     "output_type": "stream",
     "text": [
      "RMAE for 2004 is 0.08759006204050417\n"
     ]
    },
    {
     "name": "stderr",
     "output_type": "stream",
     "text": [
      "Compiling features: 100%|██████████| 4/4 [00:00<00:00, 13.22it/s]\n",
      "Compiling targets: 100%|██████████| 4/4 [00:40<00:00, 10.15s/it]\n",
      "Optimization with backpropagation. Current loss: 1.2028: 100%|██████████| 500/500 [05:40<00:00,  1.47it/s]\n",
      "Compiling features: 100%|██████████| 1/1 [00:00<00:00, 13.55it/s]\n",
      "Compiling targets: 100%|██████████| 1/1 [00:09<00:00,  9.24s/it]\n"
     ]
    },
    {
     "name": "stdout",
     "output_type": "stream",
     "text": [
      "RMAE for 2005 is 0.3041479556086889\n"
     ]
    },
    {
     "name": "stderr",
     "output_type": "stream",
     "text": [
      "Compiling features: 100%|██████████| 4/4 [00:00<00:00, 13.32it/s]\n",
      "Compiling targets: 100%|██████████| 4/4 [00:39<00:00,  9.96s/it]\n",
      "Optimization with backpropagation. Current loss: 1.1836: 100%|██████████| 500/500 [05:39<00:00,  1.47it/s]\n",
      "Compiling features: 100%|██████████| 1/1 [00:00<00:00, 11.28it/s]\n",
      "Compiling targets: 100%|██████████| 1/1 [00:09<00:00,  9.28s/it]\n"
     ]
    },
    {
     "name": "stdout",
     "output_type": "stream",
     "text": [
      "RMAE for 2006 is 0.125516447693878\n"
     ]
    },
    {
     "name": "stderr",
     "output_type": "stream",
     "text": [
      "Compiling features: 100%|██████████| 4/4 [00:00<00:00, 13.70it/s]\n",
      "Compiling targets: 100%|██████████| 4/4 [00:39<00:00,  9.95s/it]\n",
      "Optimization with backpropagation. Current loss: 1.1838: 100%|██████████| 500/500 [05:41<00:00,  1.46it/s]\n",
      "Compiling features: 100%|██████████| 1/1 [00:00<00:00, 13.21it/s]\n",
      "Compiling targets: 100%|██████████| 1/1 [00:09<00:00,  9.28s/it]\n"
     ]
    },
    {
     "name": "stdout",
     "output_type": "stream",
     "text": [
      "RMAE for 2007 is 0.26876357512908716\n"
     ]
    },
    {
     "name": "stderr",
     "output_type": "stream",
     "text": [
      "Compiling features: 100%|██████████| 4/4 [00:00<00:00, 13.33it/s]\n",
      "Compiling targets: 100%|██████████| 4/4 [00:40<00:00, 10.03s/it]\n",
      "Optimization with backpropagation. Current loss: 1.1129: 100%|██████████| 500/500 [05:41<00:00,  1.46it/s]\n",
      "Compiling features: 100%|██████████| 1/1 [00:00<00:00, 13.09it/s]\n",
      "Compiling targets: 100%|██████████| 1/1 [00:09<00:00,  9.49s/it]\n"
     ]
    },
    {
     "name": "stdout",
     "output_type": "stream",
     "text": [
      "RMAE for 2008 is 0.1439250934596594\n"
     ]
    },
    {
     "name": "stderr",
     "output_type": "stream",
     "text": [
      "Compiling features: 100%|██████████| 4/4 [00:00<00:00, 13.15it/s]\n",
      "Compiling targets: 100%|██████████| 4/4 [00:40<00:00, 10.00s/it]\n",
      "Optimization with backpropagation. Current loss: 1.1554: 100%|██████████| 500/500 [05:40<00:00,  1.47it/s]\n",
      "Compiling features: 100%|██████████| 1/1 [00:00<00:00, 13.55it/s]\n",
      "Compiling targets: 100%|██████████| 1/1 [00:09<00:00,  9.18s/it]\n"
     ]
    },
    {
     "name": "stdout",
     "output_type": "stream",
     "text": [
      "RMAE for 2009 is 0.7920410203598008\n"
     ]
    },
    {
     "name": "stderr",
     "output_type": "stream",
     "text": [
      "Compiling features: 100%|██████████| 4/4 [00:00<00:00, 13.55it/s]\n",
      "Compiling targets: 100%|██████████| 4/4 [00:39<00:00,  9.89s/it]\n",
      "Optimization with backpropagation. Current loss: 1.1701: 100%|██████████| 500/500 [05:40<00:00,  1.47it/s]\n",
      "Compiling features: 100%|██████████| 1/1 [00:00<00:00, 12.56it/s]\n",
      "Compiling targets: 100%|██████████| 1/1 [00:09<00:00,  9.26s/it]\n"
     ]
    },
    {
     "name": "stdout",
     "output_type": "stream",
     "text": [
      "RMAE for 2010 is 0.18648917490821862\n"
     ]
    },
    {
     "name": "stderr",
     "output_type": "stream",
     "text": [
      "Compiling features: 100%|██████████| 4/4 [00:00<00:00, 13.22it/s]\n",
      "Compiling targets: 100%|██████████| 4/4 [00:40<00:00, 10.02s/it]\n",
      "Optimization with backpropagation. Current loss: 1.1572: 100%|██████████| 500/500 [05:48<00:00,  1.43it/s]\n",
      "Compiling features: 100%|██████████| 1/1 [00:00<00:00, 12.95it/s]\n",
      "Compiling targets: 100%|██████████| 1/1 [00:09<00:00,  9.23s/it]\n"
     ]
    },
    {
     "name": "stdout",
     "output_type": "stream",
     "text": [
      "RMAE for 2011 is 0.15223984530500528\n"
     ]
    },
    {
     "name": "stderr",
     "output_type": "stream",
     "text": [
      "Compiling features: 100%|██████████| 4/4 [00:00<00:00, 12.98it/s]\n",
      "Compiling targets: 100%|██████████| 4/4 [00:39<00:00,  9.88s/it]\n",
      "Optimization with backpropagation. Current loss: 1.2122: 100%|██████████| 500/500 [05:47<00:00,  1.44it/s]\n",
      "Compiling features: 100%|██████████| 1/1 [00:00<00:00, 11.72it/s]\n",
      "Compiling targets: 100%|██████████| 1/1 [00:09<00:00,  9.31s/it]\n"
     ]
    },
    {
     "name": "stdout",
     "output_type": "stream",
     "text": [
      "RMAE for 2012 is 0.36201963116422625\n"
     ]
    },
    {
     "name": "stderr",
     "output_type": "stream",
     "text": [
      "Compiling features: 100%|██████████| 4/4 [00:00<00:00, 13.07it/s]\n",
      "Compiling targets: 100%|██████████| 4/4 [00:40<00:00, 10.02s/it]\n",
      "Optimization with backpropagation. Current loss: 1.1371: 100%|██████████| 500/500 [05:40<00:00,  1.47it/s]\n",
      "Compiling features: 100%|██████████| 1/1 [00:00<00:00, 13.04it/s]\n",
      "Compiling targets: 100%|██████████| 1/1 [00:09<00:00,  9.24s/it]\n"
     ]
    },
    {
     "name": "stdout",
     "output_type": "stream",
     "text": [
      "RMAE for 2013 is 0.12653121081338067\n"
     ]
    },
    {
     "name": "stderr",
     "output_type": "stream",
     "text": [
      "Compiling features: 100%|██████████| 4/4 [00:00<00:00, 13.44it/s]\n",
      "Compiling targets: 100%|██████████| 4/4 [00:39<00:00,  9.87s/it]\n",
      "Optimization with backpropagation. Current loss: 1.1110: 100%|██████████| 500/500 [05:40<00:00,  1.47it/s]\n",
      "Compiling features: 100%|██████████| 1/1 [00:00<00:00, 13.26it/s]\n",
      "Compiling targets: 100%|██████████| 1/1 [00:09<00:00,  9.17s/it]\n"
     ]
    },
    {
     "name": "stdout",
     "output_type": "stream",
     "text": [
      "RMAE for 2014 is 0.0914138373976426\n"
     ]
    },
    {
     "name": "stderr",
     "output_type": "stream",
     "text": [
      "Compiling features: 100%|██████████| 4/4 [00:00<00:00, 13.30it/s]\n",
      "Compiling targets: 100%|██████████| 4/4 [00:39<00:00,  9.96s/it]\n",
      "Optimization with backpropagation. Current loss: 1.0332: 100%|██████████| 500/500 [05:55<00:00,  1.41it/s]\n",
      "Compiling features: 100%|██████████| 1/1 [00:00<00:00, 11.13it/s]\n",
      "Compiling targets: 100%|██████████| 1/1 [00:09<00:00,  9.30s/it]\n"
     ]
    },
    {
     "name": "stdout",
     "output_type": "stream",
     "text": [
      "RMAE for 2015 is 0.40914502363536054\n"
     ]
    },
    {
     "name": "stderr",
     "output_type": "stream",
     "text": [
      "Compiling features: 100%|██████████| 4/4 [00:00<00:00, 13.37it/s]\n",
      "Compiling targets: 100%|██████████| 4/4 [00:39<00:00,  9.97s/it]\n",
      "Optimization with backpropagation. Current loss: 1.0140: 100%|██████████| 500/500 [05:39<00:00,  1.47it/s]\n",
      "Compiling features: 100%|██████████| 1/1 [00:00<00:00, 12.82it/s]\n",
      "Compiling targets: 100%|██████████| 1/1 [00:09<00:00,  9.28s/it]\n"
     ]
    },
    {
     "name": "stdout",
     "output_type": "stream",
     "text": [
      "RMAE for 2016 is 0.11306361572557551\n"
     ]
    },
    {
     "name": "stderr",
     "output_type": "stream",
     "text": [
      "Compiling features: 100%|██████████| 4/4 [00:00<00:00, 13.34it/s]\n",
      "Compiling targets: 100%|██████████| 4/4 [00:39<00:00,  9.96s/it]\n",
      "Optimization with backpropagation. Current loss: 1.0754: 100%|██████████| 500/500 [05:37<00:00,  1.48it/s]\n",
      "Compiling features: 100%|██████████| 1/1 [00:00<00:00, 13.51it/s]\n",
      "Compiling targets: 100%|██████████| 1/1 [00:09<00:00,  9.26s/it]\n"
     ]
    },
    {
     "name": "stdout",
     "output_type": "stream",
     "text": [
      "RMAE for 2017 is 0.11342885876393129\n"
     ]
    },
    {
     "name": "stderr",
     "output_type": "stream",
     "text": [
      "Compiling features: 100%|██████████| 4/4 [00:00<00:00, 13.64it/s]\n",
      "Compiling targets: 100%|██████████| 4/4 [00:39<00:00,  9.81s/it]\n",
      "Optimization with backpropagation. Current loss: 1.0896: 100%|██████████| 500/500 [05:38<00:00,  1.48it/s]\n",
      "Compiling features: 100%|██████████| 1/1 [00:00<00:00, 13.55it/s]\n",
      "Compiling targets: 100%|██████████| 1/1 [00:09<00:00,  9.22s/it]\n"
     ]
    },
    {
     "name": "stdout",
     "output_type": "stream",
     "text": [
      "RMAE for 2018 is 0.15539521258415565\n"
     ]
    },
    {
     "name": "stderr",
     "output_type": "stream",
     "text": [
      "Compiling features: 100%|██████████| 4/4 [00:00<00:00, 13.36it/s]\n",
      "Compiling targets: 100%|██████████| 4/4 [00:39<00:00,  9.91s/it]\n",
      "Optimization with backpropagation. Current loss: 1.1201: 100%|██████████| 500/500 [05:38<00:00,  1.48it/s]\n",
      "Compiling features: 100%|██████████| 1/1 [00:00<00:00, 10.74it/s]\n",
      "Compiling targets: 100%|██████████| 1/1 [00:09<00:00,  9.31s/it]"
     ]
    },
    {
     "name": "stdout",
     "output_type": "stream",
     "text": [
      "RMAE for 2019 is 0.2665772788646197\n"
     ]
    },
    {
     "name": "stderr",
     "output_type": "stream",
     "text": [
      "\n"
     ]
    }
   ],
   "source": [
    "edges = pd.read_csv('../Output_datasets/Yearly_trade_data_prediction/trade_edgelist.csv')\n",
    "nodes = pd.read_csv('../Output_datasets/Yearly_trade_data_prediction/trade_nodelist.csv')\n",
    "nodes.gdp = nodes.groupby('country').gdp.bfill()\n",
    "predyears = range(2000, 2020)\n",
    "for predyear in predyears:\n",
    "    dt_params = DataTransformerParameters('minmax')\n",
    "    nn_params = NeuralNetworkParameters(nn.L1Loss, torch.optim.Adam, 0.02, 6, 500, 42)\n",
    "    model = DCRNNEdgeEstimator(nn_params,dt_params)\n",
    "    model.fit((edges, nodes, predyear-5, predyear-1), 'trade')\n",
    "    predictions = model.trade_post_predict_transform(model.predict((edges, nodes, [predyear]),'trade'), (edges, nodes, [predyear]))\n",
    "    print(f\"RMAE for {predyear} is {rmae(predictions.prediction, predictions.target)}\")\n",
    "    predictions.to_csv(f\"predictions_{predyear}.csv\", index=False)"
   ],
   "metadata": {
    "collapsed": false,
    "ExecuteTime": {
     "start_time": "2023-04-20T11:21:41.130675Z",
     "end_time": "2023-04-20T13:32:33.415378Z"
    }
   }
  },
  {
   "cell_type": "code",
   "execution_count": 19,
   "outputs": [],
   "source": [
    "data = pd.concat([pd.read_csv(f'predictions_{year}.csv') for year in predyears])\n",
    "data = data.rename(columns={\"origin\":'iso_o', 'destination':'iso_d'})"
   ],
   "metadata": {
    "collapsed": false,
    "ExecuteTime": {
     "start_time": "2023-04-20T13:38:40.876276Z",
     "end_time": "2023-04-20T13:38:40.982343Z"
    }
   }
  },
  {
   "cell_type": "code",
   "execution_count": 20,
   "outputs": [],
   "source": [
    "data.to_csv(\"DCRNN_OLS_trade_predictions.csv\", index=False)\n"
   ],
   "metadata": {
    "collapsed": false,
    "ExecuteTime": {
     "start_time": "2023-04-20T13:38:41.628676Z",
     "end_time": "2023-04-20T13:38:42.009236Z"
    }
   }
  },
  {
   "cell_type": "code",
   "execution_count": 21,
   "outputs": [
    {
     "data": {
      "text/plain": "        prediction  iso_o  iso_d  year     target\n0     8.370165e+07     32     36  2000   71213431\n1     7.600986e+07     32     40  2000   81149089\n2     1.007338e+00     32    108  2000          0\n3     1.007338e+00     32    854  2000         87\n4     1.007338e+00     32     84  2000          0\n...            ...    ...    ...   ...        ...\n7305  1.692078e+08    894    834  2019  204517386\n7306  1.235085e+07    894    800  2019    9901035\n7307  1.892660e+05    894    858  2019     508299\n7308  2.317579e+08    894    840  2019  186460168\n7309  2.032171e+02    894    670  2019        489\n\n[146200 rows x 5 columns]",
      "text/html": "<div>\n<style scoped>\n    .dataframe tbody tr th:only-of-type {\n        vertical-align: middle;\n    }\n\n    .dataframe tbody tr th {\n        vertical-align: top;\n    }\n\n    .dataframe thead th {\n        text-align: right;\n    }\n</style>\n<table border=\"1\" class=\"dataframe\">\n  <thead>\n    <tr style=\"text-align: right;\">\n      <th></th>\n      <th>prediction</th>\n      <th>iso_o</th>\n      <th>iso_d</th>\n      <th>year</th>\n      <th>target</th>\n    </tr>\n  </thead>\n  <tbody>\n    <tr>\n      <th>0</th>\n      <td>8.370165e+07</td>\n      <td>32</td>\n      <td>36</td>\n      <td>2000</td>\n      <td>71213431</td>\n    </tr>\n    <tr>\n      <th>1</th>\n      <td>7.600986e+07</td>\n      <td>32</td>\n      <td>40</td>\n      <td>2000</td>\n      <td>81149089</td>\n    </tr>\n    <tr>\n      <th>2</th>\n      <td>1.007338e+00</td>\n      <td>32</td>\n      <td>108</td>\n      <td>2000</td>\n      <td>0</td>\n    </tr>\n    <tr>\n      <th>3</th>\n      <td>1.007338e+00</td>\n      <td>32</td>\n      <td>854</td>\n      <td>2000</td>\n      <td>87</td>\n    </tr>\n    <tr>\n      <th>4</th>\n      <td>1.007338e+00</td>\n      <td>32</td>\n      <td>84</td>\n      <td>2000</td>\n      <td>0</td>\n    </tr>\n    <tr>\n      <th>...</th>\n      <td>...</td>\n      <td>...</td>\n      <td>...</td>\n      <td>...</td>\n      <td>...</td>\n    </tr>\n    <tr>\n      <th>7305</th>\n      <td>1.692078e+08</td>\n      <td>894</td>\n      <td>834</td>\n      <td>2019</td>\n      <td>204517386</td>\n    </tr>\n    <tr>\n      <th>7306</th>\n      <td>1.235085e+07</td>\n      <td>894</td>\n      <td>800</td>\n      <td>2019</td>\n      <td>9901035</td>\n    </tr>\n    <tr>\n      <th>7307</th>\n      <td>1.892660e+05</td>\n      <td>894</td>\n      <td>858</td>\n      <td>2019</td>\n      <td>508299</td>\n    </tr>\n    <tr>\n      <th>7308</th>\n      <td>2.317579e+08</td>\n      <td>894</td>\n      <td>840</td>\n      <td>2019</td>\n      <td>186460168</td>\n    </tr>\n    <tr>\n      <th>7309</th>\n      <td>2.032171e+02</td>\n      <td>894</td>\n      <td>670</td>\n      <td>2019</td>\n      <td>489</td>\n    </tr>\n  </tbody>\n</table>\n<p>146200 rows × 5 columns</p>\n</div>"
     },
     "execution_count": 21,
     "metadata": {},
     "output_type": "execute_result"
    }
   ],
   "source": [
    "data"
   ],
   "metadata": {
    "collapsed": false,
    "ExecuteTime": {
     "start_time": "2023-04-20T13:38:42.404134Z",
     "end_time": "2023-04-20T13:38:42.455183Z"
    }
   }
  },
  {
   "cell_type": "code",
   "execution_count": null,
   "outputs": [],
   "source": [],
   "metadata": {
    "collapsed": false
   }
  }
 ],
 "metadata": {
  "kernelspec": {
   "display_name": "Python 3.9.13 ('alteo-ghi-sim-_r_Z88UJ')",
   "language": "python",
   "name": "python3"
  },
  "language_info": {
   "codemirror_mode": {
    "name": "ipython",
    "version": 3
   },
   "file_extension": ".py",
   "mimetype": "text/x-python",
   "name": "python",
   "nbconvert_exporter": "python",
   "pygments_lexer": "ipython3",
   "version": "3.9.13"
  },
  "orig_nbformat": 4,
  "vscode": {
   "interpreter": {
    "hash": "556135bef58bea183c0be3f19805670afe42fd80c5434eb34a78da166f5d6b0b"
   }
  }
 },
 "nbformat": 4,
 "nbformat_minor": 2
}
