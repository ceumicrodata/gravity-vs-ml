{
 "cells": [
  {
   "cell_type": "code",
   "execution_count": 1,
   "metadata": {
    "ExecuteTime": {
     "start_time": "2023-04-20T11:10:09.103567Z",
     "end_time": "2023-04-20T11:10:09.122414Z"
    }
   },
   "outputs": [],
   "source": [
    "%reload_ext autoreload\n",
    "%autoreload 2"
   ]
  },
  {
   "cell_type": "code",
   "execution_count": 2,
   "metadata": {
    "ExecuteTime": {
     "start_time": "2023-04-20T11:10:09.121656Z",
     "end_time": "2023-04-20T11:10:13.782083Z"
    }
   },
   "outputs": [],
   "source": [
    "from DCRNN_OLS import DataTransformerParameters, NeuralNetworkParameters, DCRNNEdgeEstimator\n",
    "import pandas as pd\n",
    "import numpy as np\n",
    "import torch\n",
    "from torch import nn"
   ]
  },
  {
   "cell_type": "code",
   "execution_count": 3,
   "outputs": [],
   "source": [
    "def mse(predictions: pd.Series, targets: pd.Series) -> float:\n",
    "    return float(np.mean((predictions-targets)**2))\n",
    "\n",
    "def mae(predictions: pd.Series, targets: pd.Series) -> float:\n",
    "    return float(np.mean(np.abs(predictions-targets)))\n",
    "\n",
    "def rmse(predictions: pd.Series, targets: pd.Series) -> float:\n",
    "    return np.sqrt(mse(predictions,targets))\n",
    "\n",
    "def rmae(predictions: pd.Series, targets: pd.Series) -> float:\n",
    "    return mae(predictions,targets)/np.mean(targets)\n",
    "\n",
    "def r2(predictions: pd.Series, targets: pd.Series) -> float:\n",
    "    y_mean = np.mean(targets)\n",
    "    sst = np.sum((targets-y_mean)**2)\n",
    "    ssr = np.sum((targets-predictions)**2)\n",
    "    return 1-ssr/sst"
   ],
   "metadata": {
    "collapsed": false,
    "ExecuteTime": {
     "start_time": "2023-04-20T11:10:13.784711Z",
     "end_time": "2023-04-20T11:10:13.899180Z"
    }
   }
  },
  {
   "cell_type": "markdown",
   "source": [
    "RMAE for 2002 is 0.08999155775011605\n",
    "RMAE for 2003 is 0.09710349875431454\n",
    "RMAE for 2004 is 0.12698926381601175\n",
    "RMAE for 2005 is 0.522006920136278\n",
    "RMAE for 2006 is 0.530205279564763\n",
    "RMAE for 2007 is 0.5066405529688327\n",
    "RMAE for 2008 is 0.21120081639116658\n",
    "RMAE for 2009 is 0.24665746027603114\n",
    "RMAE for 2010 is 0.4859605414048886\n",
    "RMAE for 2011 is 0.5065687483152598\n",
    "RMAE for 2012 is 0.48061483653733444"
   ],
   "metadata": {
    "collapsed": false
   }
  },
  {
   "cell_type": "code",
   "execution_count": 14,
   "outputs": [
    {
     "name": "stderr",
     "output_type": "stream",
     "text": [
      "Compiling features: 100%|██████████| 4/4 [00:00<00:00, 10.91it/s]\n",
      "Compiling targets: 100%|██████████| 4/4 [00:40<00:00, 10.20s/it]\n",
      "Optimization with backpropagation. Current loss: 1.2585: 100%|██████████| 500/500 [05:47<00:00,  1.44it/s]\n",
      "Compiling features: 100%|██████████| 1/1 [00:00<00:00, 13.08it/s]\n",
      "Compiling targets: 100%|██████████| 1/1 [00:09<00:00,  9.19s/it]\n"
     ]
    },
    {
     "name": "stdout",
     "output_type": "stream",
     "text": [
      "RMAE for 2000 is 0.15123585638435036\n"
     ]
    },
    {
     "name": "stderr",
     "output_type": "stream",
     "text": [
      "Compiling features: 100%|██████████| 4/4 [00:00<00:00, 12.75it/s]\n",
      "Compiling targets: 100%|██████████| 4/4 [00:39<00:00,  9.89s/it]\n",
      "Optimization with backpropagation. Current loss: 1.2219: 100%|██████████| 500/500 [05:41<00:00,  1.46it/s]\n",
      "Compiling features: 100%|██████████| 1/1 [00:00<00:00, 12.81it/s]\n",
      "Compiling targets: 100%|██████████| 1/1 [00:09<00:00,  9.23s/it]\n"
     ]
    },
    {
     "name": "stdout",
     "output_type": "stream",
     "text": [
      "RMAE for 2001 is 0.3392673616530701\n"
     ]
    },
    {
     "name": "stderr",
     "output_type": "stream",
     "text": [
      "Compiling features: 100%|██████████| 4/4 [00:00<00:00, 11.76it/s]\n",
      "Compiling targets: 100%|██████████| 4/4 [00:39<00:00,  9.85s/it]\n",
      "Optimization with backpropagation. Current loss: 1.1644: 100%|██████████| 500/500 [05:53<00:00,  1.41it/s]\n",
      "Compiling features: 100%|██████████| 1/1 [00:00<00:00, 13.20it/s]\n",
      "Compiling targets: 100%|██████████| 1/1 [00:09<00:00,  9.18s/it]\n"
     ]
    },
    {
     "name": "stdout",
     "output_type": "stream",
     "text": [
      "RMAE for 2002 is 0.12449615027551351\n"
     ]
    },
    {
     "name": "stderr",
     "output_type": "stream",
     "text": [
      "Compiling features: 100%|██████████| 4/4 [00:00<00:00, 13.47it/s]\n",
      "Compiling targets: 100%|██████████| 4/4 [00:39<00:00,  9.94s/it]\n",
      "Optimization with backpropagation. Current loss: 1.1973: 100%|██████████| 500/500 [05:40<00:00,  1.47it/s]\n",
      "Compiling features: 100%|██████████| 1/1 [00:00<00:00, 13.46it/s]\n",
      "Compiling targets: 100%|██████████| 1/1 [00:09<00:00,  9.21s/it]\n"
     ]
    },
    {
     "name": "stdout",
     "output_type": "stream",
     "text": [
      "RMAE for 2003 is 0.14631395509013395\n"
     ]
    },
    {
     "name": "stderr",
     "output_type": "stream",
     "text": [
      "Compiling features: 100%|██████████| 4/4 [00:00<00:00, 13.58it/s]\n",
      "Compiling targets: 100%|██████████| 4/4 [00:39<00:00,  9.97s/it]\n",
      "Optimization with backpropagation. Current loss: 1.2107: 100%|██████████| 500/500 [05:41<00:00,  1.46it/s]\n",
      "Compiling features: 100%|██████████| 1/1 [00:00<00:00, 13.38it/s]\n",
      "Compiling targets: 100%|██████████| 1/1 [00:09<00:00,  9.28s/it]\n"
     ]
    },
    {
     "name": "stdout",
     "output_type": "stream",
     "text": [
      "RMAE for 2004 is 0.08759006204050417\n"
     ]
    },
    {
     "name": "stderr",
     "output_type": "stream",
     "text": [
      "Compiling features: 100%|██████████| 4/4 [00:00<00:00, 13.22it/s]\n",
      "Compiling targets: 100%|██████████| 4/4 [00:40<00:00, 10.15s/it]\n",
      "Optimization with backpropagation. Current loss: 1.2028: 100%|██████████| 500/500 [05:40<00:00,  1.47it/s]\n",
      "Compiling features: 100%|██████████| 1/1 [00:00<00:00, 13.55it/s]\n",
      "Compiling targets: 100%|██████████| 1/1 [00:09<00:00,  9.24s/it]\n"
     ]
    },
    {
     "name": "stdout",
     "output_type": "stream",
     "text": [
      "RMAE for 2005 is 0.3041479556086889\n"
     ]
    },
    {
     "name": "stderr",
     "output_type": "stream",
     "text": [
      "Compiling features: 100%|██████████| 4/4 [00:00<00:00, 13.32it/s]\n",
      "Compiling targets: 100%|██████████| 4/4 [00:39<00:00,  9.96s/it]\n",
      "Optimization with backpropagation. Current loss: 1.1836: 100%|██████████| 500/500 [05:39<00:00,  1.47it/s]\n",
      "Compiling features: 100%|██████████| 1/1 [00:00<00:00, 11.28it/s]\n",
      "Compiling targets: 100%|██████████| 1/1 [00:09<00:00,  9.28s/it]\n"
     ]
    },
    {
     "name": "stdout",
     "output_type": "stream",
     "text": [
      "RMAE for 2006 is 0.125516447693878\n"
     ]
    },
    {
     "name": "stderr",
     "output_type": "stream",
     "text": [
      "Compiling features: 100%|██████████| 4/4 [00:00<00:00, 13.70it/s]\n",
      "Compiling targets: 100%|██████████| 4/4 [00:39<00:00,  9.95s/it]\n",
      "Optimization with backpropagation. Current loss: 1.1838: 100%|██████████| 500/500 [05:41<00:00,  1.46it/s]\n",
      "Compiling features: 100%|██████████| 1/1 [00:00<00:00, 13.21it/s]\n",
      "Compiling targets: 100%|██████████| 1/1 [00:09<00:00,  9.28s/it]\n"
     ]
    },
    {
     "name": "stdout",
     "output_type": "stream",
     "text": [
      "RMAE for 2007 is 0.26876357512908716\n"
     ]
    },
    {
     "name": "stderr",
     "output_type": "stream",
     "text": [
      "Compiling features: 100%|██████████| 4/4 [00:00<00:00, 13.33it/s]\n",
      "Compiling targets: 100%|██████████| 4/4 [00:40<00:00, 10.03s/it]\n",
      "Optimization with backpropagation. Current loss: 1.1129: 100%|██████████| 500/500 [05:41<00:00,  1.46it/s]\n",
      "Compiling features: 100%|██████████| 1/1 [00:00<00:00, 13.09it/s]\n",
      "Compiling targets: 100%|██████████| 1/1 [00:09<00:00,  9.49s/it]\n"
     ]
    },
    {
     "name": "stdout",
     "output_type": "stream",
     "text": [
      "RMAE for 2008 is 0.1439250934596594\n"
     ]
    },
    {
     "name": "stderr",
     "output_type": "stream",
     "text": [
      "Compiling features: 100%|██████████| 4/4 [00:00<00:00, 13.15it/s]\n",
      "Compiling targets: 100%|██████████| 4/4 [00:40<00:00, 10.00s/it]\n",
      "Optimization with backpropagation. Current loss: 1.1554: 100%|██████████| 500/500 [05:40<00:00,  1.47it/s]\n",
      "Compiling features: 100%|██████████| 1/1 [00:00<00:00, 13.55it/s]\n",
      "Compiling targets: 100%|██████████| 1/1 [00:09<00:00,  9.18s/it]\n"
     ]
    },
    {
     "name": "stdout",
     "output_type": "stream",
     "text": [
      "RMAE for 2009 is 0.7920410203598008\n"
     ]
    },
    {
     "name": "stderr",
     "output_type": "stream",
     "text": [
      "Compiling features: 100%|██████████| 4/4 [00:00<00:00, 13.55it/s]\n",
      "Compiling targets: 100%|██████████| 4/4 [00:39<00:00,  9.89s/it]\n",
      "Optimization with backpropagation. Current loss: 1.1701: 100%|██████████| 500/500 [05:40<00:00,  1.47it/s]\n",
      "Compiling features: 100%|██████████| 1/1 [00:00<00:00, 12.56it/s]\n",
      "Compiling targets: 100%|██████████| 1/1 [00:09<00:00,  9.26s/it]\n"
     ]
    },
    {
     "name": "stdout",
     "output_type": "stream",
     "text": [
      "RMAE for 2010 is 0.18648917490821862\n"
     ]
    },
    {
     "name": "stderr",
     "output_type": "stream",
     "text": [
      "Compiling features: 100%|██████████| 4/4 [00:00<00:00, 13.22it/s]\n",
      "Compiling targets: 100%|██████████| 4/4 [00:40<00:00, 10.02s/it]\n",
      "Optimization with backpropagation. Current loss: 1.1572: 100%|██████████| 500/500 [05:48<00:00,  1.43it/s]\n",
      "Compiling features: 100%|██████████| 1/1 [00:00<00:00, 12.95it/s]\n",
      "Compiling targets: 100%|██████████| 1/1 [00:09<00:00,  9.23s/it]\n"
     ]
    },
    {
     "name": "stdout",
     "output_type": "stream",
     "text": [
      "RMAE for 2011 is 0.15223984530500528\n"
     ]
    },
    {
     "name": "stderr",
     "output_type": "stream",
     "text": [
      "Compiling features: 100%|██████████| 4/4 [00:00<00:00, 12.98it/s]\n",
      "Compiling targets: 100%|██████████| 4/4 [00:39<00:00,  9.88s/it]\n",
      "Optimization with backpropagation. Current loss: 1.2122: 100%|██████████| 500/500 [05:47<00:00,  1.44it/s]\n",
      "Compiling features: 100%|██████████| 1/1 [00:00<00:00, 11.72it/s]\n",
      "Compiling targets: 100%|██████████| 1/1 [00:09<00:00,  9.31s/it]\n"
     ]
    },
    {
     "name": "stdout",
     "output_type": "stream",
     "text": [
      "RMAE for 2012 is 0.36201963116422625\n"
     ]
    },
    {
     "name": "stderr",
     "output_type": "stream",
     "text": [
      "Compiling features: 100%|██████████| 4/4 [00:00<00:00, 13.07it/s]\n",
      "Compiling targets: 100%|██████████| 4/4 [00:40<00:00, 10.02s/it]\n",
      "Optimization with backpropagation. Current loss: 1.1371: 100%|██████████| 500/500 [05:40<00:00,  1.47it/s]\n",
      "Compiling features: 100%|██████████| 1/1 [00:00<00:00, 13.04it/s]\n",
      "Compiling targets: 100%|██████████| 1/1 [00:09<00:00,  9.24s/it]\n"
     ]
    },
    {
     "name": "stdout",
     "output_type": "stream",
     "text": [
      "RMAE for 2013 is 0.12653121081338067\n"
     ]
    },
    {
     "name": "stderr",
     "output_type": "stream",
     "text": [
      "Compiling features: 100%|██████████| 4/4 [00:00<00:00, 13.44it/s]\n",
      "Compiling targets: 100%|██████████| 4/4 [00:39<00:00,  9.87s/it]\n",
      "Optimization with backpropagation. Current loss: 1.1110: 100%|██████████| 500/500 [05:40<00:00,  1.47it/s]\n",
      "Compiling features: 100%|██████████| 1/1 [00:00<00:00, 13.26it/s]\n",
      "Compiling targets: 100%|██████████| 1/1 [00:09<00:00,  9.17s/it]\n"
     ]
    },
    {
     "name": "stdout",
     "output_type": "stream",
     "text": [
      "RMAE for 2014 is 0.0914138373976426\n"
     ]
    },
    {
     "name": "stderr",
     "output_type": "stream",
     "text": [
      "Compiling features: 100%|██████████| 4/4 [00:00<00:00, 13.30it/s]\n",
      "Compiling targets: 100%|██████████| 4/4 [00:39<00:00,  9.96s/it]\n",
      "Optimization with backpropagation. Current loss: 1.0332: 100%|██████████| 500/500 [05:55<00:00,  1.41it/s]\n",
      "Compiling features: 100%|██████████| 1/1 [00:00<00:00, 11.13it/s]\n",
      "Compiling targets: 100%|██████████| 1/1 [00:09<00:00,  9.30s/it]\n"
     ]
    },
    {
     "name": "stdout",
     "output_type": "stream",
     "text": [
      "RMAE for 2015 is 0.40914502363536054\n"
     ]
    },
    {
     "name": "stderr",
     "output_type": "stream",
     "text": [
      "Compiling features: 100%|██████████| 4/4 [00:00<00:00, 13.37it/s]\n",
      "Compiling targets: 100%|██████████| 4/4 [00:39<00:00,  9.97s/it]\n",
      "Optimization with backpropagation. Current loss: 1.0140: 100%|██████████| 500/500 [05:39<00:00,  1.47it/s]\n",
      "Compiling features: 100%|██████████| 1/1 [00:00<00:00, 12.82it/s]\n",
      "Compiling targets: 100%|██████████| 1/1 [00:09<00:00,  9.28s/it]\n"
     ]
    },
    {
     "name": "stdout",
     "output_type": "stream",
     "text": [
      "RMAE for 2016 is 0.11306361572557551\n"
     ]
    },
    {
     "name": "stderr",
     "output_type": "stream",
     "text": [
      "Compiling features: 100%|██████████| 4/4 [00:00<00:00, 13.34it/s]\n",
      "Compiling targets: 100%|██████████| 4/4 [00:39<00:00,  9.96s/it]\n",
      "Optimization with backpropagation. Current loss: 1.0754: 100%|██████████| 500/500 [05:37<00:00,  1.48it/s]\n",
      "Compiling features: 100%|██████████| 1/1 [00:00<00:00, 13.51it/s]\n",
      "Compiling targets: 100%|██████████| 1/1 [00:09<00:00,  9.26s/it]\n"
     ]
    },
    {
     "name": "stdout",
     "output_type": "stream",
     "text": [
      "RMAE for 2017 is 0.11342885876393129\n"
     ]
    },
    {
     "name": "stderr",
     "output_type": "stream",
     "text": [
      "Compiling features: 100%|██████████| 4/4 [00:00<00:00, 13.64it/s]\n",
      "Compiling targets: 100%|██████████| 4/4 [00:39<00:00,  9.81s/it]\n",
      "Optimization with backpropagation. Current loss: 1.0896: 100%|██████████| 500/500 [05:38<00:00,  1.48it/s]\n",
      "Compiling features: 100%|██████████| 1/1 [00:00<00:00, 13.55it/s]\n",
      "Compiling targets: 100%|██████████| 1/1 [00:09<00:00,  9.22s/it]\n"
     ]
    },
    {
     "name": "stdout",
     "output_type": "stream",
     "text": [
      "RMAE for 2018 is 0.15539521258415565\n"
     ]
    },
    {
     "name": "stderr",
     "output_type": "stream",
     "text": [
      "Compiling features: 100%|██████████| 4/4 [00:00<00:00, 13.36it/s]\n",
      "Compiling targets: 100%|██████████| 4/4 [00:39<00:00,  9.91s/it]\n",
      "Optimization with backpropagation. Current loss: 1.1201: 100%|██████████| 500/500 [05:38<00:00,  1.48it/s]\n",
      "Compiling features: 100%|██████████| 1/1 [00:00<00:00, 10.74it/s]\n",
      "Compiling targets: 100%|██████████| 1/1 [00:09<00:00,  9.31s/it]"
     ]
    },
    {
     "name": "stdout",
     "output_type": "stream",
     "text": [
      "RMAE for 2019 is 0.2665772788646197\n"
     ]
    },
    {
     "name": "stderr",
     "output_type": "stream",
     "text": [
      "\n"
     ]
    }
   ],
   "source": [
    "edges = pd.read_csv('../Output_datasets/Yearly_trade_data_prediction/trade_edgelist.csv')\n",
    "nodes = pd.read_csv('../Output_datasets/Yearly_trade_data_prediction/trade_nodelist.csv')\n",
    "nodes.gdp = nodes.groupby('country').gdp.bfill()\n",
    "predyears = range(2000, 2020)\n",
    "for predyear in predyears:\n",
    "    dt_params = DataTransformerParameters('minmax')\n",
    "    nn_params = NeuralNetworkParameters(nn.L1Loss, torch.optim.Adam, 0.02, 6, 500, 42)\n",
    "    model = DCRNNEdgeEstimator(nn_params,dt_params)\n",
    "    model.fit((edges, nodes, predyear-5, predyear-1), 'trade')\n",
    "    predictions = model.trade_post_predict_transform(model.predict((edges, nodes, [predyear]),'trade'), (edges, nodes, [predyear]))\n",
    "    print(f\"RMAE for {predyear} is {rmae(predictions.prediction, predictions.target)}\")\n",
    "    predictions.to_csv(f\"predictions_{predyear}.csv\", index=False)"
   ],
   "metadata": {
    "collapsed": false,
    "ExecuteTime": {
     "start_time": "2023-04-20T11:21:41.130675Z",
     "end_time": "2023-04-20T13:32:33.415378Z"
    }
   }
  },
  {
   "cell_type": "code",
   "execution_count": 15,
   "outputs": [],
   "source": [
    "data = pd.concat([pd.read_csv(f'predictions_{year}.csv') for year in predyears])"
   ],
   "metadata": {
    "collapsed": false,
    "ExecuteTime": {
     "start_time": "2023-04-20T13:32:35.288758Z",
     "end_time": "2023-04-20T13:32:36.214047Z"
    }
   }
  },
  {
   "cell_type": "code",
   "execution_count": 16,
   "outputs": [],
   "source": [
    "data.to_csv(\"DCRNN_OLS_trade_predictions.csv\", index=False)\n"
   ],
   "metadata": {
    "collapsed": false,
    "ExecuteTime": {
     "start_time": "2023-04-20T13:32:37.146629Z",
     "end_time": "2023-04-20T13:32:37.522568Z"
    }
   }
  },
  {
   "cell_type": "code",
   "execution_count": null,
   "outputs": [],
   "source": [],
   "metadata": {
    "collapsed": false
   }
  }
 ],
 "metadata": {
  "kernelspec": {
   "display_name": "Python 3.9.13 ('alteo-ghi-sim-_r_Z88UJ')",
   "language": "python",
   "name": "python3"
  },
  "language_info": {
   "codemirror_mode": {
    "name": "ipython",
    "version": 3
   },
   "file_extension": ".py",
   "mimetype": "text/x-python",
   "name": "python",
   "nbconvert_exporter": "python",
   "pygments_lexer": "ipython3",
   "version": "3.9.13"
  },
  "orig_nbformat": 4,
  "vscode": {
   "interpreter": {
    "hash": "556135bef58bea183c0be3f19805670afe42fd80c5434eb34a78da166f5d6b0b"
   }
  }
 },
 "nbformat": 4,
 "nbformat_minor": 2
}
