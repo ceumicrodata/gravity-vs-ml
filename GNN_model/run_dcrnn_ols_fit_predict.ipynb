{
 "cells": [
  {
   "cell_type": "code",
   "execution_count": 1,
   "metadata": {},
   "outputs": [],
   "source": [
    "%reload_ext autoreload\n",
    "%autoreload 2"
   ]
  },
  {
   "cell_type": "code",
   "execution_count": 2,
   "metadata": {},
   "outputs": [],
   "source": [
    "from DCRNN_OLS import DataTransformerParameters, NeuralNetworkParameters, DCRNNEdgeEstimator\n",
    "import pandas as pd\n",
    "import numpy as np\n",
    "import torch\n",
    "from torch import nn"
   ]
  },
  {
   "cell_type": "code",
   "execution_count": 3,
   "outputs": [],
   "source": [
    "def mse(predictions: pd.Series, targets: pd.Series) -> float:\n",
    "    return float(np.mean((predictions-targets)**2))\n",
    "\n",
    "def mae(predictions: pd.Series, targets: pd.Series) -> float:\n",
    "    return float(np.mean(np.abs(predictions-targets)))\n",
    "\n",
    "def rmse(predictions: pd.Series, targets: pd.Series) -> float:\n",
    "    return np.sqrt(mse(predictions,targets))\n",
    "\n",
    "def rmae(predictions: pd.Series, targets: pd.Series) -> float:\n",
    "    return mae(predictions,targets)/np.mean(targets)\n",
    "\n",
    "def r2(predictions: pd.Series, targets: pd.Series) -> float:\n",
    "    y_mean = np.mean(targets)\n",
    "    sst = np.sum((targets-y_mean)**2)\n",
    "    ssr = np.sum((targets-predictions)**2)\n",
    "    return 1-ssr/sst"
   ],
   "metadata": {
    "collapsed": false
   }
  },
  {
   "cell_type": "markdown",
   "source": [
    "RMAE for 2002 is 0.24077334853302124\n",
    "RMAE for 2003 is 0.33033458665631127\n",
    "RMAE for 2004 is 0.59618592176227\n",
    "RMAE for 2005 is 0.522006920136278\n",
    "RMAE for 2006 is 0.530205279564763\n",
    "RMAE for 2007 is 0.5066405529688327\n",
    "RMAE for 2008 is 0.21120081639116658\n",
    "RMAE for 2009 is 0.24665746027603114\n",
    "RMAE for 2010 is 0.4859605414048886\n",
    "RMAE for 2011 is 0.5065687483152598\n",
    "RMAE for 2012 is 0.48061483653733444"
   ],
   "metadata": {
    "collapsed": false
   }
  },
  {
   "cell_type": "code",
   "execution_count": 5,
   "outputs": [
    {
     "name": "stderr",
     "output_type": "stream",
     "text": [
      "Compiling features: 100%|██████████| 4/4 [00:00<00:00, 13.17it/s]\n",
      "Compiling targets: 100%|██████████| 4/4 [00:40<00:00, 10.21s/it]\n",
      "Optimization with backpropagation. Current loss: 1.2141: 100%|██████████| 500/500 [05:45<00:00,  1.45it/s]\n",
      "Compiling features: 100%|██████████| 1/1 [00:00<00:00, 13.18it/s]\n",
      "Compiling targets: 100%|██████████| 1/1 [00:09<00:00,  9.30s/it]\n"
     ]
    },
    {
     "name": "stdout",
     "output_type": "stream",
     "text": [
      "RMAE for 2004 is 0.08999155775011605\n"
     ]
    },
    {
     "name": "stderr",
     "output_type": "stream",
     "text": [
      "Compiling features: 100%|██████████| 4/4 [00:00<00:00, 13.12it/s]\n",
      "Compiling targets: 100%|██████████| 4/4 [00:40<00:00, 10.17s/it]\n",
      "Optimization with backpropagation. Current loss: 1.1800: 100%|██████████| 500/500 [05:50<00:00,  1.43it/s]\n",
      "Compiling features: 100%|██████████| 1/1 [00:00<00:00, 12.43it/s]\n",
      "Compiling targets: 100%|██████████| 1/1 [00:09<00:00,  9.33s/it]\n"
     ]
    },
    {
     "name": "stdout",
     "output_type": "stream",
     "text": [
      "RMAE for 2005 is 0.09710349875431454\n"
     ]
    },
    {
     "name": "stderr",
     "output_type": "stream",
     "text": [
      "Compiling features: 100%|██████████| 4/4 [00:00<00:00, 13.02it/s]\n",
      "Compiling targets: 100%|██████████| 4/4 [00:40<00:00, 10.17s/it]\n",
      "Optimization with backpropagation. Current loss: 1.1741: 100%|██████████| 500/500 [05:49<00:00,  1.43it/s]\n",
      "Compiling features: 100%|██████████| 1/1 [00:00<00:00, 12.75it/s]\n",
      "Compiling targets: 100%|██████████| 1/1 [00:09<00:00,  9.29s/it]\n"
     ]
    },
    {
     "name": "stdout",
     "output_type": "stream",
     "text": [
      "RMAE for 2006 is 0.12698926381601175\n"
     ]
    },
    {
     "name": "stderr",
     "output_type": "stream",
     "text": [
      "Compiling features: 100%|██████████| 4/4 [00:00<00:00, 13.72it/s]\n",
      "Compiling targets: 100%|██████████| 4/4 [00:40<00:00, 10.00s/it]\n",
      "Optimization with backpropagation. Current loss: 1.1870: 100%|██████████| 500/500 [05:44<00:00,  1.45it/s]\n",
      "Compiling features: 100%|██████████| 1/1 [00:00<00:00, 13.12it/s]\n",
      "Compiling targets: 100%|██████████| 1/1 [00:09<00:00,  9.31s/it]\n"
     ]
    },
    {
     "name": "stdout",
     "output_type": "stream",
     "text": [
      "RMAE for 2007 is 0.3257706050412658\n"
     ]
    },
    {
     "name": "stderr",
     "output_type": "stream",
     "text": [
      "Compiling features: 100%|██████████| 4/4 [00:00<00:00, 13.66it/s]\n",
      "Compiling targets: 100%|██████████| 4/4 [00:39<00:00,  9.96s/it]\n",
      "Optimization with backpropagation. Current loss: 1.1174: 100%|██████████| 500/500 [05:40<00:00,  1.47it/s]\n",
      "Compiling features: 100%|██████████| 1/1 [00:00<00:00, 13.29it/s]\n",
      "Compiling targets: 100%|██████████| 1/1 [00:09<00:00,  9.26s/it]\n"
     ]
    },
    {
     "name": "stdout",
     "output_type": "stream",
     "text": [
      "RMAE for 2008 is 0.3426048562624731\n"
     ]
    },
    {
     "name": "stderr",
     "output_type": "stream",
     "text": [
      "Compiling features: 100%|██████████| 4/4 [00:00<00:00, 13.28it/s]\n",
      "Compiling targets: 100%|██████████| 4/4 [00:40<00:00, 10.10s/it]\n",
      "Optimization with backpropagation. Current loss: 1.1610: 100%|██████████| 500/500 [05:40<00:00,  1.47it/s]\n",
      "Compiling features: 100%|██████████| 1/1 [00:00<00:00, 13.11it/s]\n",
      "Compiling targets: 100%|██████████| 1/1 [00:09<00:00,  9.34s/it]\n"
     ]
    },
    {
     "name": "stdout",
     "output_type": "stream",
     "text": [
      "RMAE for 2009 is 0.779525468783674\n"
     ]
    },
    {
     "name": "stderr",
     "output_type": "stream",
     "text": [
      "Compiling features: 100%|██████████| 4/4 [00:00<00:00, 13.56it/s]\n",
      "Compiling targets: 100%|██████████| 4/4 [00:40<00:00, 10.19s/it]\n",
      "Optimization with backpropagation. Current loss: 1.1757: 100%|██████████| 500/500 [05:39<00:00,  1.47it/s]\n",
      "Compiling features: 100%|██████████| 1/1 [00:00<00:00, 13.47it/s]\n",
      "Compiling targets: 100%|██████████| 1/1 [00:09<00:00,  9.24s/it]\n"
     ]
    },
    {
     "name": "stdout",
     "output_type": "stream",
     "text": [
      "RMAE for 2010 is 0.20540433363002822\n"
     ]
    },
    {
     "name": "stderr",
     "output_type": "stream",
     "text": [
      "Compiling features: 100%|██████████| 4/4 [00:00<00:00, 13.62it/s]\n",
      "Compiling targets: 100%|██████████| 4/4 [00:39<00:00,  9.94s/it]\n",
      "Optimization with backpropagation. Current loss: 1.1592: 100%|██████████| 500/500 [05:40<00:00,  1.47it/s]\n",
      "Compiling features: 100%|██████████| 1/1 [00:00<00:00, 13.52it/s]\n",
      "Compiling targets: 100%|██████████| 1/1 [00:09<00:00,  9.18s/it]\n"
     ]
    },
    {
     "name": "stdout",
     "output_type": "stream",
     "text": [
      "RMAE for 2011 is 0.17126152315958396\n"
     ]
    },
    {
     "name": "stderr",
     "output_type": "stream",
     "text": [
      "Compiling features: 100%|██████████| 4/4 [00:00<00:00, 13.38it/s]\n",
      "Compiling targets: 100%|██████████| 4/4 [00:40<00:00, 10.08s/it]\n",
      "Optimization with backpropagation. Current loss: 1.2118: 100%|██████████| 500/500 [05:40<00:00,  1.47it/s]\n",
      "Compiling features: 100%|██████████| 1/1 [00:00<00:00, 13.64it/s]\n",
      "Compiling targets: 100%|██████████| 1/1 [00:09<00:00,  9.27s/it]\n"
     ]
    },
    {
     "name": "stdout",
     "output_type": "stream",
     "text": [
      "RMAE for 2012 is 0.3488802235936509\n"
     ]
    },
    {
     "name": "stderr",
     "output_type": "stream",
     "text": [
      "Compiling features: 100%|██████████| 4/4 [00:00<00:00, 13.57it/s]\n",
      "Compiling targets: 100%|██████████| 4/4 [00:39<00:00,  9.96s/it]\n",
      "Optimization with backpropagation. Current loss: 1.1373: 100%|██████████| 500/500 [05:40<00:00,  1.47it/s]\n",
      "Compiling features: 100%|██████████| 1/1 [00:00<00:00, 12.85it/s]\n",
      "Compiling targets: 100%|██████████| 1/1 [00:09<00:00,  9.24s/it]\n"
     ]
    },
    {
     "name": "stdout",
     "output_type": "stream",
     "text": [
      "RMAE for 2013 is 0.1066699620699927\n"
     ]
    },
    {
     "name": "stderr",
     "output_type": "stream",
     "text": [
      "Compiling features: 100%|██████████| 4/4 [00:00<00:00, 12.87it/s]\n",
      "Compiling targets: 100%|██████████| 4/4 [00:40<00:00, 10.03s/it]\n",
      "Optimization with backpropagation. Current loss: 1.1133: 100%|██████████| 500/500 [05:40<00:00,  1.47it/s]\n",
      "Compiling features: 100%|██████████| 1/1 [00:00<00:00, 13.40it/s]\n",
      "Compiling targets: 100%|██████████| 1/1 [00:09<00:00,  9.15s/it]\n"
     ]
    },
    {
     "name": "stdout",
     "output_type": "stream",
     "text": [
      "RMAE for 2014 is 0.08902986596800087\n"
     ]
    },
    {
     "name": "stderr",
     "output_type": "stream",
     "text": [
      "Compiling features: 100%|██████████| 4/4 [00:00<00:00, 13.28it/s]\n",
      "Compiling targets: 100%|██████████| 4/4 [00:39<00:00,  9.85s/it]\n",
      "Optimization with backpropagation. Current loss: 1.0374: 100%|██████████| 500/500 [05:40<00:00,  1.47it/s]\n",
      "Compiling features: 100%|██████████| 1/1 [00:00<00:00, 13.42it/s]\n",
      "Compiling targets: 100%|██████████| 1/1 [00:09<00:00,  9.26s/it]\n"
     ]
    },
    {
     "name": "stdout",
     "output_type": "stream",
     "text": [
      "RMAE for 2015 is 0.13828980073027933\n"
     ]
    },
    {
     "name": "stderr",
     "output_type": "stream",
     "text": [
      "Compiling features: 100%|██████████| 4/4 [00:00<00:00, 13.54it/s]\n",
      "Compiling targets: 100%|██████████| 4/4 [00:39<00:00,  9.96s/it]\n",
      "Optimization with backpropagation. Current loss: 1.0147: 100%|██████████| 500/500 [05:40<00:00,  1.47it/s]\n",
      "Compiling features: 100%|██████████| 1/1 [00:00<00:00, 13.37it/s]\n",
      "Compiling targets: 100%|██████████| 1/1 [00:09<00:00,  9.14s/it]\n"
     ]
    },
    {
     "name": "stdout",
     "output_type": "stream",
     "text": [
      "RMAE for 2016 is 0.22215506095841295\n"
     ]
    },
    {
     "name": "stderr",
     "output_type": "stream",
     "text": [
      "Compiling features: 100%|██████████| 4/4 [00:00<00:00, 13.22it/s]\n",
      "Compiling targets: 100%|██████████| 4/4 [00:40<00:00, 10.08s/it]\n",
      "Optimization with backpropagation. Current loss: 1.0750: 100%|██████████| 500/500 [05:39<00:00,  1.47it/s]\n",
      "Compiling features: 100%|██████████| 1/1 [00:00<00:00, 13.35it/s]\n",
      "Compiling targets: 100%|██████████| 1/1 [00:09<00:00,  9.29s/it]\n"
     ]
    },
    {
     "name": "stdout",
     "output_type": "stream",
     "text": [
      "RMAE for 2017 is 0.18202461050224683\n"
     ]
    },
    {
     "name": "stderr",
     "output_type": "stream",
     "text": [
      "Compiling features: 100%|██████████| 4/4 [00:00<00:00, 13.64it/s]\n",
      "Compiling targets: 100%|██████████| 4/4 [00:39<00:00,  9.92s/it]\n",
      "Optimization with backpropagation. Current loss: 1.0880: 100%|██████████| 500/500 [05:40<00:00,  1.47it/s]\n",
      "Compiling features: 100%|██████████| 1/1 [00:00<00:00, 13.39it/s]\n",
      "Compiling targets: 100%|██████████| 1/1 [00:09<00:00,  9.38s/it]\n"
     ]
    },
    {
     "name": "stdout",
     "output_type": "stream",
     "text": [
      "RMAE for 2018 is 0.15593162058162507\n"
     ]
    },
    {
     "name": "stderr",
     "output_type": "stream",
     "text": [
      "Compiling features: 100%|██████████| 4/4 [00:00<00:00, 13.30it/s]\n",
      "Compiling targets: 100%|██████████| 4/4 [00:39<00:00,  9.84s/it]\n",
      "Optimization with backpropagation. Current loss: 1.1168: 100%|██████████| 500/500 [05:40<00:00,  1.47it/s]\n",
      "Compiling features: 100%|██████████| 1/1 [00:00<00:00, 13.15it/s]\n",
      "Compiling targets: 100%|██████████| 1/1 [00:09<00:00,  9.18s/it]"
     ]
    },
    {
     "name": "stdout",
     "output_type": "stream",
     "text": [
      "RMAE for 2019 is 0.08484419881956033\n"
     ]
    },
    {
     "name": "stderr",
     "output_type": "stream",
     "text": [
      "\n"
     ]
    }
   ],
   "source": [
    "edges = pd.read_csv('../Output_datasets/Yearly_trade_data_prediction/trade_edgelist.csv')\n",
    "nodes = pd.read_csv('../Output_datasets/Yearly_trade_data_prediction/trade_nodelist.csv')\n",
    "predyears = range(2002, 2020)\n",
    "for predyear in predyears:\n",
    "    dt_params = DataTransformerParameters('minmax')\n",
    "    nn_params = NeuralNetworkParameters(nn.L1Loss, torch.optim.Adam, 0.02, 6, 500, 42)\n",
    "    model = DCRNNEdgeEstimator(nn_params,dt_params)\n",
    "    model.fit((edges, nodes, predyear-5, predyear-1), 'trade')\n",
    "    predictions = model.trade_post_predict_transform(model.predict((edges, nodes, [predyear]),'trade'), (edges, nodes, [predyear]))\n",
    "    print(f\"RMAE for {predyear} is {rmae(predictions.prediction, predictions.target)}\")\n",
    "    predictions.to_csv(f\"predictions_{predyear}.csv\", index=False)"
   ],
   "metadata": {
    "collapsed": false
   }
  },
  {
   "cell_type": "code",
   "execution_count": 6,
   "outputs": [],
   "source": [
    "data = pd.concat([pd.read_csv(f'predictions_{year}.csv') for year in predyears])"
   ],
   "metadata": {
    "collapsed": false
   }
  },
  {
   "cell_type": "code",
   "execution_count": 7,
   "outputs": [],
   "source": [
    "data.to_csv(\"DCRNN_OLS_predictions.csv\", index=False)\n"
   ],
   "metadata": {
    "collapsed": false
   }
  },
  {
   "cell_type": "code",
   "execution_count": null,
   "outputs": [],
   "source": [],
   "metadata": {
    "collapsed": false
   }
  }
 ],
 "metadata": {
  "kernelspec": {
   "display_name": "Python 3.9.13 ('alteo-ghi-sim-_r_Z88UJ')",
   "language": "python",
   "name": "python3"
  },
  "language_info": {
   "codemirror_mode": {
    "name": "ipython",
    "version": 3
   },
   "file_extension": ".py",
   "mimetype": "text/x-python",
   "name": "python",
   "nbconvert_exporter": "python",
   "pygments_lexer": "ipython3",
   "version": "3.9.13"
  },
  "orig_nbformat": 4,
  "vscode": {
   "interpreter": {
    "hash": "556135bef58bea183c0be3f19805670afe42fd80c5434eb34a78da166f5d6b0b"
   }
  }
 },
 "nbformat": 4,
 "nbformat_minor": 2
}
