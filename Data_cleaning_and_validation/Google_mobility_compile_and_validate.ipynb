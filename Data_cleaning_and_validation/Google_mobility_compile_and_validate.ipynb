{
 "cells": [
  {
   "attachments": {},
   "cell_type": "markdown",
   "metadata": {},
   "source": [
    "# This notebbook merges and validates the datasets for Google mobility prediction"
   ]
  },
  {
   "cell_type": "code",
   "execution_count": 1,
   "metadata": {},
   "outputs": [],
   "source": [
    "import pandas as pd"
   ]
  },
  {
   "cell_type": "code",
   "execution_count": 2,
   "metadata": {},
   "outputs": [],
   "source": [
    "###############\n",
    "# Import datasets\n",
    "###############\n",
    "\n",
    "# State name mapping table\n",
    "state_mapping_table = pd.read_csv('../Input_datasets/Mobility_flow_prediction_shared/us_states_w_fips_and_coordinates.csv')\n",
    "# Drop US-DC (District of Columbia) as it is not a state\n",
    "state_mapping_table = state_mapping_table[state_mapping_table[\"iso_3166_2_code\"]!=\"US-DC\"]\n",
    "iso_2_fips_mapper = dict(zip(state_mapping_table['iso_3166_2_code'], state_mapping_table['FIPS']))\n",
    "fips_iso_2_mapper = dict(zip(state_mapping_table['FIPS'], state_mapping_table['iso_3166_2_code']))\n",
    "\n",
    "# Google Mobility dataset\n",
    "google_mobility_dataset = pd.read_csv('../Input_datasets/Google_mobility_flow_prediction/Google_mobility_data.csv')\n",
    "\n",
    "# Import US state edgelist\n",
    "edge_list = pd.read_json('../Input_datasets/Mobility_flow_prediction_shared/us_states_edge_list.json')\n",
    "edge_list.columns= ['origin', 'destination']\n",
    "# Drop FIPS=11 (US-DC, District of Columbia) as it is not a state\n",
    "edge_list = edge_list[(edge_list['origin']!=11) & (edge_list['destination']!=11)]\n",
    "# Add neighbouring column\n",
    "edge_list['neighbouring'] = 1\n",
    "# Create full edge list\n",
    "full_edge_list = pd.DataFrame({(i, j) for i in edge_list['destination'].unique() for j in edge_list['destination'].unique()}, columns=['origin', 'destination'])\n",
    "edge_list = pd.merge(full_edge_list, edge_list, on=['origin', 'destination'], how='left')\n",
    "# Fill NA for eighbouring column\n",
    "edge_list = edge_list.fillna(0)\n",
    "\n",
    "# Additional edge characteristics\n",
    "us_state_distances = pd.read_csv('../Input_datasets/Mobility_flow_prediction_shared/US_state_distances.csv', skiprows=2, index_col=0)\n",
    "us_state_distances.columns = us_state_distances.index\n",
    "\n",
    "# Node characteristics - US state population\n",
    "us_state_pop = pd.read_csv('../Input_datasets/Mobility_flow_prediction_shared/US_state_pop_2019_census.csv', index_col=0)\n",
    "us_state_pop.columns = [\"state\", \"population_2019\", \"population_density_2019\", \"FIPS\"]\n",
    "us_state_pop.drop(columns=[\"state\"], inplace=True)\n",
    "\n",
    "# Node characteristics - OpenStreetMap features\n",
    "overpass_features = pd.read_csv('../Input_datasets/Mobility_flow_prediction_shared/overpass_features.csv', index_col=0)\n",
    "overpass_features.drop(columns=[\"overpass_id\", \"state\"], inplace=True)\n",
    "overpass_features.rename(columns={\"state_short\":\"iso_3166_2_code\"}, inplace=True)\n"
   ]
  },
  {
   "cell_type": "code",
   "execution_count": 3,
   "metadata": {},
   "outputs": [],
   "source": [
    "###############\n",
    "# Create node_list data\n",
    "###############\n",
    "node_list = pd.merge(state_mapping_table, us_state_pop, on = \"FIPS\", how='left')\n",
    "node_list = pd.merge(node_list, overpass_features, on=\"iso_3166_2_code\", how='left')\n",
    "\n",
    "\n",
    "###############\n",
    "# Drop Alaska and Hawaii from node list\n",
    "###############\n",
    "node_list = node_list[(node_list['iso_3166_2_code']!='US-AK') &\n",
    "                      (node_list['iso_3166_2_code']!='US-HI')]\n",
    "\n",
    "###############\n",
    "# Create edge_list data\n",
    "###############\n",
    "edge_list[\"distances\"] = edge_list.apply(lambda x: us_state_distances.loc[x[\"origin\"], x[\"destination\"]], axis=1)\n",
    "edge_list['origin'] = edge_list['origin'].astype('int').apply(lambda x: fips_iso_2_mapper[x])\n",
    "edge_list['destination'] = edge_list['destination'].astype('int').apply(lambda x: fips_iso_2_mapper[x])\n",
    "\n",
    "###############\n",
    "# Drop edges where origin = destination\n",
    "###############\n",
    "\n",
    "edge_list = edge_list[edge_list['origin'] != edge_list['destination']]\n",
    "\n",
    "###############\n",
    "# Create node_target_list data\n",
    "###############\n",
    "node_target_list = google_mobility_dataset.drop(columns=[\"country_region_code\", \"country_region\", \"sub_region_1\"])\n",
    "\n",
    "###############\n",
    "# Drop Alaska and Hawaii from node target list\n",
    "###############\n",
    "node_target_list = node_target_list[(node_target_list['iso_3166_2_code']!='US-AK') &\n",
    "                      (node_target_list['iso_3166_2_code']!='US-HI')]\n",
    "\n",
    "###############\n",
    "# Add timeline column which will be used as timestamp\n",
    "###############\n",
    "timeline_dict = dict(enumerate(sorted(node_target_list['date'].unique())))\n",
    "timeline_mapping_dict = {y: x for x, y in timeline_dict.items()}\n",
    "\n",
    "node_target_list['Timeline'] = node_target_list['date'].apply(lambda x: timeline_mapping_dict[x])\n",
    "\n",
    "###############\n",
    "# Save to csv\n",
    "###############\n",
    "node_list.to_csv(\"../Output_datasets/Google_mobility_flow_prediction/node_list.csv\", index=False)\n",
    "edge_list.to_csv(\"../Output_datasets/Google_mobility_flow_prediction/edge_list.csv\", index=False)\n",
    "node_target_list.to_csv(\"../Output_datasets/Google_mobility_flow_prediction/node_target_list.csv\", index=False)"
   ]
  },
  {
   "cell_type": "code",
   "execution_count": 4,
   "metadata": {},
   "outputs": [],
   "source": [
    "# Node dataset\n",
    "node_id='iso_3166_2_code'\n",
    "node_timestamp='Timeline'\n",
    "node_features=['population_2019', 'population_density_2019',\n",
    "               'residential_land_use_area', 'commercial_land_use_area',\n",
    "               'industrial_land_use_area', 'retail_land_use_area', 'natural_land_use_area',\n",
    "\t           'residential_roads_length', 'other_roads_length', 'main_roads_length',\n",
    "\t\t       'point_transport', 'building_transport', 'point_food', 'building_food',\n",
    "\t           'point_health', 'building_health', 'point_education', 'building_education',\n",
    "               'point_retail', 'building_retail', 'date']\n",
    "\n",
    "node_targets=['retail_and_recreation_percent_change_from_baseline', 'grocery_and_pharmacy_percent_change_from_baseline',\n",
    "               'parks_percent_change_from_baseline', 'transit_stations_percent_change_from_baseline',\n",
    "               'workplaces_percent_change_from_baseline', 'residential_percent_change_from_baseline']\n",
    "\n",
    "##################\n",
    "#  Not used: Edge dataset\n",
    "##################\n",
    "flow_origin='origin'\n",
    "flow_destination='destination'\n",
    "#flows_value=''\n",
    "flows_timestamp='date'\n",
    "#flows_features=['neighbouring', 'distances']\n",
    "\n",
    "# Chunk parameters\n",
    "chunk_size = 350\n",
    "\n",
    "# Chunked data path\n",
    "chunk_path  = \"../Output_datasets/Google_mobility_flow_prediction/Chunked_merged_data\""
   ]
  },
  {
   "cell_type": "code",
   "execution_count": 5,
   "metadata": {},
   "outputs": [],
   "source": [
    "# Merge node_list and node_target_list\n",
    "node_list = pd.merge(node_list, node_target_list, on=['iso_3166_2_code'], how='inner')"
   ]
  },
  {
   "cell_type": "code",
   "execution_count": 6,
   "metadata": {},
   "outputs": [],
   "source": [
    "# Filter only neccesary columns\n",
    "nodes_columns = node_features + node_targets +[node_id] + [node_timestamp]\n",
    "nodes_columns = [i for i in nodes_columns if i!='']\n",
    "node_list = node_list[nodes_columns]\n",
    "\n",
    "# Rename\n",
    "node_list.rename(columns={node_id: flow_origin}, inplace=True)\n",
    "\n",
    "nodes_and_edges = node_list.copy()\n",
    "nodes_and_edges = pd.melt(nodes_and_edges, id_vars=node_features+[flow_origin]+[node_timestamp], value_vars=node_targets, var_name='destination', value_name='Value')"
   ]
  },
  {
   "cell_type": "code",
   "execution_count": 7,
   "metadata": {},
   "outputs": [],
   "source": [
    "chunk_period_list = [nodes_and_edges[node_timestamp].unique()[i:i+chunk_size] for i in range(0, len(nodes_and_edges[node_timestamp].unique())-(chunk_size-1)) if i%50==0]\n",
    "for chunk in chunk_period_list:\n",
    "    nodes_and_edges_chunk = nodes_and_edges[nodes_and_edges[node_timestamp].isin(chunk)]\n",
    "    chunk_name = str(min(chunk)) + \"-\" + str(max(chunk))\n",
    "    nodes_and_edges_chunk.to_csv(f\"{chunk_path}/{chunk_name}.csv\", index=False)"
   ]
  },
  {
   "cell_type": "code",
   "execution_count": null,
   "metadata": {},
   "outputs": [],
   "source": []
  }
 ],
 "metadata": {
  "kernelspec": {
   "display_name": "Python 3",
   "language": "python",
   "name": "python3"
  },
  "language_info": {
   "codemirror_mode": {
    "name": "ipython",
    "version": 3
   },
   "file_extension": ".py",
   "mimetype": "text/x-python",
   "name": "python",
   "nbconvert_exporter": "python",
   "pygments_lexer": "ipython3",
   "version": "3.11.3"
  },
  "orig_nbformat": 4,
  "vscode": {
   "interpreter": {
    "hash": "d7d815e1f708ebb1f5714e36652b1af8a8532e2538a9a16a8fb7dc9a472af4e0"
   }
  }
 },
 "nbformat": 4,
 "nbformat_minor": 2
}
