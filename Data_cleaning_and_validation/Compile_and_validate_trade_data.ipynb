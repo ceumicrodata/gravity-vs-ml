{
 "cells": [
  {
   "attachments": {},
   "cell_type": "markdown",
   "metadata": {},
   "source": [
    "# This notebbook merges and validates the datasets used for trade modelling"
   ]
  },
  {
   "cell_type": "code",
   "execution_count": 93,
   "metadata": {},
   "outputs": [],
   "source": [
    "import pandas as pd\n",
    "import numpy\n",
    "import requests\n",
    "import json\n",
    "import codecs\n",
    "import pickle\n",
    "from collections import defaultdict\n",
    "from datetime import datetime\n",
    "from dateutil.relativedelta import relativedelta\n",
    "import time"
   ]
  },
  {
   "cell_type": "code",
   "execution_count": 94,
   "metadata": {},
   "outputs": [],
   "source": [
    "###############\n",
    "# Import datasets\n",
    "###############\n",
    "\n",
    "# Country name mapping table\n",
    "country_mapping_table = pd.read_csv('../Input_datasets/Yearly_trade_data/country_codes.csv')\n",
    "iso_alpha3_numeric_mapper = dict(zip(country_mapping_table['ISO3166-1-Alpha-3'], country_mapping_table['ISO3166-1-numeric']))\n",
    "iso_alpha2_numeric_mapper = dict(zip(country_mapping_table['ISO3166-1-Alpha-2'], country_mapping_table['ISO3166-1-numeric']))\n",
    "\n",
    "# Trade dataset\n",
    "trade_dataset = pd.read_csv('../Input_datasets/Yearly_trade_data/trade_data_new_annual_import_zero_padded.csv')\n",
    "country_names_in_trade_dataset = pd.read_csv('../Input_datasets/country_names_with_annual_trade_data.csv')\n",
    "trade_dataset['Period'] = trade_dataset['Period'].astype(int)\n",
    "\n",
    "# Additional edge characteristics\n",
    "cepii_edge_dataset = pd.read_csv('../Input_datasets/Yearly_trade_data/cepii_edge.csv')\n",
    "# Drop countries that cannot be mapped\n",
    "cepii_edge_dataset = cepii_edge_dataset[(cepii_edge_dataset['iso_o']!='ANT') & (cepii_edge_dataset['iso_d']!='ANT')\n",
    "                                        & (cepii_edge_dataset['iso_o']!='PAL') & (cepii_edge_dataset['iso_d']!='PAL')\n",
    "                                        & (cepii_edge_dataset['iso_o']!='TMP') & (cepii_edge_dataset['iso_d']!='TMP')\n",
    "                                        & (cepii_edge_dataset['iso_o']!='YUG') & (cepii_edge_dataset['iso_d']!='YUG')\n",
    "                                        & (cepii_edge_dataset['iso_o']!='ZAR') & (cepii_edge_dataset['iso_d']!='ZAR')]\n",
    "cepii_edge_dataset['iso_o'] = cepii_edge_dataset['iso_o'].apply(lambda x: x if x!='ROM' else 'ROU')\n",
    "cepii_edge_dataset['iso_d'] = cepii_edge_dataset['iso_d'].apply(lambda x: x if x!='ROM' else 'ROU')\n",
    "\n",
    "cepii_edge_dataset['iso_o'] = cepii_edge_dataset['iso_o'].astype('string').apply(lambda x: iso_alpha3_numeric_mapper[x])\n",
    "cepii_edge_dataset['iso_d'] = cepii_edge_dataset['iso_d'].astype('string').apply(lambda x: iso_alpha3_numeric_mapper[x])\n",
    "\n",
    "# Node characteristics\n",
    "wbg_dataset = pd.read_csv('../Input_datasets/Yearly_trade_data/WBG_data_all_countries.csv')\n",
    "wbg_dataset['economy'] = wbg_dataset['economy'].astype('string').apply(lambda x: iso_alpha3_numeric_mapper[x])\n",
    "wbg_dataset.columns = ['economy', 'year', 'gdp', 'total_population', 'urban_population(%_of_total)']\n",
    "wbg_dataset['year'] = wbg_dataset['year'].apply(lambda x: x[2:])\n",
    "wbg_dataset['year'] = wbg_dataset['year'].astype(int)\n",
    "\n",
    "country_groups_dataset = pd.read_csv('../Input_datasets/Yearly_trade_data/country_groups.csv')\n",
    "# Drop countries that cannot be mapped\n",
    "country_groups_dataset = country_groups_dataset[(country_groups_dataset['country_code']!='JA')]\n",
    "country_groups_dataset['country_code'] = country_groups_dataset['country_code'].apply(lambda x: iso_alpha2_numeric_mapper[x])\n",
    "\n",
    "cepii_nodes_dataset = pd.read_csv('../Input_datasets/Yearly_trade_data/cepii_node.csv')\n",
    "# Drop countries that cannot be mapped\n",
    "cepii_nodes_dataset = cepii_nodes_dataset[(cepii_nodes_dataset['iso3']!='ANT')\n",
    "                                        & (cepii_nodes_dataset['iso3']!='PAL') \n",
    "                                        & (cepii_nodes_dataset['iso3']!='TMP')\n",
    "                                        & (cepii_nodes_dataset['iso3']!='YUG')\n",
    "                                        & (cepii_nodes_dataset['iso3']!='ZAR')\n",
    "                                        ]\n",
    "cepii_nodes_dataset['iso3'] = cepii_nodes_dataset['iso3'].apply(lambda x: x if x!='ROM' else 'ROU')\n",
    "cepii_nodes_dataset['iso3'] = cepii_nodes_dataset['iso3'].apply(lambda x: iso_alpha3_numeric_mapper[x])\n"
   ]
  },
  {
   "cell_type": "code",
   "execution_count": 95,
   "metadata": {},
   "outputs": [],
   "source": [
    "###############\n",
    "# Validate trade data\n",
    "###############\n",
    "\n",
    "# Obtain list of countries from trade dataset and validate\n",
    "\n",
    "reporter_set = set(trade_dataset.Reporter.unique())\n",
    "partner_set = set(trade_dataset.Partner.unique())\n",
    "\n",
    "if (reporter_set - partner_set != set()) & (partner_set - reporter_set != set()):\n",
    "    print('Number of partners and reporters do no match!')\n",
    "\n",
    "periods = set(trade_dataset.Period.unique())\n",
    "all_pairs = set([(i,j,k) for i in reporter_set for j in partner_set for k in periods])\n",
    "real_pairs = set(list(trade_dataset[['Reporter', 'Partner', 'Period']].itertuples(index=False, name=None)))\n",
    "\n",
    "if (all_pairs - real_pairs != set()) & (real_pairs - all_pairs != set()):\n",
    "    print('Number of expected and real observations do no match!')\n",
    "\n",
    "# Clean errorous codes\n",
    "\n",
    "iso_codes_in_country_names_in_trade_dataset = set(country_names_in_trade_dataset['ISO_3166-1_numeric_code'])\n",
    "if (reporter_set - iso_codes_in_country_names_in_trade_dataset != set()) & (iso_codes_in_country_names_in_trade_dataset - reporter_set != set()):\n",
    "    print('ISO codes in trade dataset and country_names_in_trade_dataset do not match!')\n",
    "\n",
    "errorous_country_code_mapper = dict(zip(reporter_set, reporter_set))\n",
    "errorous_country_code_mapper[251] = 250\n",
    "errorous_country_code_mapper[579] = 578\n",
    "errorous_country_code_mapper[699] = 356\n",
    "errorous_country_code_mapper[757] = 756\n",
    "errorous_country_code_mapper[842] = 840\n",
    "\n",
    "trade_dataset['Reporter'] = trade_dataset['Reporter'].apply(lambda x: errorous_country_code_mapper[x])\n",
    "trade_dataset['Partner'] = trade_dataset['Partner'].apply(lambda x: errorous_country_code_mapper[x])"
   ]
  },
  {
   "cell_type": "code",
   "execution_count": 96,
   "metadata": {},
   "outputs": [],
   "source": [
    "###############\n",
    "# Merge cepii to trade data\n",
    "###############\n",
    "\n",
    "trade_dataset['Reporter'] = trade_dataset['Reporter'].astype('float64')\n",
    "trade_dataset['Partner'] = trade_dataset['Partner'].astype('float64')\n",
    "\n",
    "trade_edgelist = pd.merge(trade_dataset, cepii_edge_dataset, left_on = ['Reporter', 'Partner'], right_on = ['iso_o','iso_d'], how='left')\n",
    "trade_edgelist['iso_o'] = trade_edgelist['iso_o'].astype('int')\n",
    "trade_edgelist['iso_d'] = trade_edgelist['iso_d'].astype('int')\n",
    "trade_edgelist.drop(columns=['Reporter', 'Partner'], inplace=True)\n",
    "\n",
    "###############\n",
    "# Filter wbg to trade data countries\n",
    "# Merge with cepii_nodes and country groups\n",
    "###############\n",
    "\n",
    "trade_dataset_countries = trade_dataset['Reporter'].unique()\n",
    "wbg_dataset = wbg_dataset[wbg_dataset['economy'].isin(trade_dataset_countries)]\n",
    "\n",
    "trade_nodelist = pd.merge(wbg_dataset, country_groups_dataset, left_on = ['economy'], right_on = ['country_code'], how='left')\n",
    "trade_nodelist = pd.merge(trade_nodelist, cepii_nodes_dataset, left_on = ['economy'], right_on = ['iso3'], how='left')\n",
    "trade_nodelist['iso_numeric'] = trade_nodelist['iso3'].astype('int')\n",
    "trade_nodelist.drop(columns=['economy', 'country_code', 'iso3'], inplace=True)\n",
    "\n",
    "\n"
   ]
  },
  {
   "cell_type": "code",
   "execution_count": null,
   "metadata": {},
   "outputs": [],
   "source": []
  }
 ],
 "metadata": {
  "kernelspec": {
   "display_name": "Python 3",
   "language": "python",
   "name": "python3"
  },
  "language_info": {
   "codemirror_mode": {
    "name": "ipython",
    "version": 3
   },
   "file_extension": ".py",
   "mimetype": "text/x-python",
   "name": "python",
   "nbconvert_exporter": "python",
   "pygments_lexer": "ipython3",
   "version": "3.10.2"
  },
  "orig_nbformat": 4,
  "vscode": {
   "interpreter": {
    "hash": "bac1c141dd677d21aa3d7e112522370869da97ef62e316f915c40dc907532f18"
   }
  }
 },
 "nbformat": 4,
 "nbformat_minor": 2
}
