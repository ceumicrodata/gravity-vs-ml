{
 "cells": [
  {
   "cell_type": "markdown",
   "metadata": {},
   "source": [
    "# This notebook extracts and saves preliminary data from https://comtrade.un.org/"
   ]
  },
  {
   "cell_type": "code",
   "execution_count": 5,
   "metadata": {},
   "outputs": [],
   "source": [
    "import pandas as pd\n",
    "import numpy\n",
    "import requests\n",
    "import json\n",
    "import codecs\n",
    "import pickle\n",
    "from collections import defaultdict\n",
    "from datetime import datetime\n",
    "from dateutil.relativedelta import relativedelta\n",
    "import time\n"
   ]
  },
  {
   "cell_type": "code",
   "execution_count": 6,
   "metadata": {},
   "outputs": [],
   "source": [
    "# Get country codes\n",
    "country_codes = requests.get('https://comtrade.un.org/Data/cache/reporterAreas.json')\n",
    "country_codes = country_codes.text.encode().decode('utf-8-sig') \n",
    "country_codes = json.loads(country_codes)[\"results\"]\n",
    "\n",
    "with open('datasets/country_codes.pickle', 'wb') as handle:\n",
    "    pickle.dump(country_codes, handle, protocol=pickle.HIGHEST_PROTOCOL)"
   ]
  },
  {
   "cell_type": "code",
   "execution_count": 7,
   "metadata": {},
   "outputs": [],
   "source": [
    "# Get monthly data availability for all countries\n",
    "data_availability = requests.get('https://comtrade.un.org/api/refs/da/view?type=C&freq=M')\n",
    "\n",
    "country_availability = defaultdict(list)\n",
    "\n",
    "for i in data_availability.json():\n",
    "    country_availability[i['r']].append(datetime.strptime(i['ps'], '%Y%m').date())"
   ]
  },
  {
   "cell_type": "code",
   "execution_count": 8,
   "metadata": {},
   "outputs": [],
   "source": [
    "# Define datelist that will be the timeframe for our analysis\n",
    "startDate = '2011-01'\n",
    "endDate = '2020-12'\n",
    "\n",
    "start = datetime.strptime(startDate, '%Y-%m').date()\n",
    "end = datetime.strptime(endDate, '%Y-%m').date()\n",
    "\n",
    "datelist = []\n",
    "\n",
    "while start < end:\n",
    "    datelist.append(start)\n",
    "    start += relativedelta(months=1)"
   ]
  },
  {
   "cell_type": "code",
   "execution_count": 9,
   "metadata": {},
   "outputs": [
    {
     "data": {
      "text/plain": [
       "66"
      ]
     },
     "execution_count": 9,
     "metadata": {},
     "output_type": "execute_result"
    }
   ],
   "source": [
    "# Define how many months can be missing from a given country in the timeframe\n",
    "# Obtain list of countries to which we have sufficient data\n",
    "max_missing_months = 0\n",
    "countries_with_sufficient_data = []\n",
    "\n",
    "for country, dates in country_availability.items():\n",
    "    missing_months = 0\n",
    "    for j in datelist:\n",
    "        if j not in dates:\n",
    "            missing_months+=1\n",
    "    if missing_months<=max_missing_months:\n",
    "        countries_with_sufficient_data.append(country)\n",
    "\n",
    "len(countries_with_sufficient_data)"
   ]
  },
  {
   "cell_type": "code",
   "execution_count": 37,
   "metadata": {},
   "outputs": [],
   "source": [
    "#Export countries in batches of 5\n",
    "countries_string_in_fives = []\n",
    "for i in range(int(len(countries_with_sufficient_data)/5)+1):\n",
    "    countries_string_in_fives.append(\"%2C\".join(countries_with_sufficient_data[i*5:i*5+5]))\n",
    "\n",
    "exported_data_list = []\n",
    "for element1 in countries_string_in_fives:\n",
    "    for element2 in countries_string_in_fives:\n",
    "        exported_data = requests.get(f'https://comtrade.un.org/api/get?max=100000&type=C&freq=M&px=HS&ps=all&r={element1}&p={element2}&rg=2&cc=TOTAL')\n",
    "        if exported_data.status_code==200:\n",
    "            exported_data_list.append(exported_data)\n",
    "        else:\n",
    "            print(element1, element2)\n",
    "            break\n",
    "        time.sleep(40)\n",
    "\n",
    "with open('datasets/exported_data_list.pickle', 'wb') as handle:\n",
    "    pickle.dump(exported_data_list, handle, protocol=pickle.HIGHEST_PROTOCOL)"
   ]
  },
  {
   "cell_type": "code",
   "execution_count": 38,
   "metadata": {},
   "outputs": [
    {
     "data": {
      "text/plain": [
       "196"
      ]
     },
     "execution_count": 38,
     "metadata": {},
     "output_type": "execute_result"
    }
   ],
   "source": [
    "len(exported_data_list)"
   ]
  },
  {
   "cell_type": "code",
   "execution_count": 57,
   "metadata": {},
   "outputs": [],
   "source": [
    "final_values = []\n",
    "\n",
    "for export in exported_data_list:\n",
    "    exported_data = export.json()['dataset']\n",
    "    for entry in exported_data:\n",
    "        final_values.append([entry['rtCode'], entry['ptCode'], entry['period'], entry['TradeValue']])\n",
    "\n",
    "final_df = pd.DataFrame(final_values, columns=['From', 'To', 'Period', 'Value'])\n",
    "\n",
    "datelist_string = [int(i.strftime('%Y%m')) for i in datelist]\n",
    "final_df = final_df[final_df['Period'].isin(datelist_string)].copy()\n",
    "\n",
    "final_df.to_csv('datasets/trade_data.csv')"
   ]
  },
  {
   "cell_type": "code",
   "execution_count": null,
   "metadata": {},
   "outputs": [],
   "source": []
  }
 ],
 "metadata": {
  "interpreter": {
   "hash": "bac1c141dd677d21aa3d7e112522370869da97ef62e316f915c40dc907532f18"
  },
  "kernelspec": {
   "display_name": "Python 3.10.2 64-bit ('3.10.2')",
   "language": "python",
   "name": "python3"
  },
  "language_info": {
   "codemirror_mode": {
    "name": "ipython",
    "version": 3
   },
   "file_extension": ".py",
   "mimetype": "text/x-python",
   "name": "python",
   "nbconvert_exporter": "python",
   "pygments_lexer": "ipython3",
   "version": "3.10.2"
  },
  "orig_nbformat": 4
 },
 "nbformat": 4,
 "nbformat_minor": 2
}
