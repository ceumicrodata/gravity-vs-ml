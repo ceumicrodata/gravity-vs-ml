{
 "cells": [
  {
   "cell_type": "markdown",
   "metadata": {},
   "source": [
    "# This notebook extracts and saves preliminary data from https://comtrade.un.org/"
   ]
  },
  {
   "cell_type": "code",
   "execution_count": 1,
   "metadata": {},
   "outputs": [],
   "source": [
    "import pandas as pd\n",
    "import numpy\n",
    "import requests\n",
    "import json\n",
    "import codecs\n",
    "import pickle\n",
    "from collections import defaultdict\n",
    "from datetime import datetime\n",
    "from dateutil.relativedelta import relativedelta\n",
    "import time\n",
    "from retrying import retry\n"
   ]
  },
  {
   "cell_type": "code",
   "execution_count": 2,
   "metadata": {},
   "outputs": [],
   "source": [
    "# Get country codes\n",
    "\n",
    "country_codes = requests.get('https://comtrade.un.org/Data/cache/reporterAreas.json')\n",
    "country_codes = country_codes.text.encode().decode('utf-8-sig') \n",
    "country_codes = json.loads(country_codes)[\"results\"]\n",
    "\n",
    "with open('Input_datasets/country_codes_old.pickle', 'wb') as handle:\n",
    "    pickle.dump(country_codes, handle, protocol=pickle.HIGHEST_PROTOCOL)"
   ]
  },
  {
   "cell_type": "code",
   "execution_count": 3,
   "metadata": {},
   "outputs": [],
   "source": [
    "# Get monthly data availability for all countries\n",
    "data_availability = requests.get('https://comtrade.un.org/api/refs/da/view?type=C&freq=M')\n",
    "\n",
    "country_availability = defaultdict(list)\n",
    "\n",
    "for i in data_availability.json():\n",
    "    country_availability[i['r']].append(datetime.strptime(i['ps'], '%Y%m').date())"
   ]
  },
  {
   "cell_type": "code",
   "execution_count": 4,
   "metadata": {},
   "outputs": [],
   "source": [
    "# Define datelist that will be the timeframe for our analysis\n",
    "startDate = '2011-01'\n",
    "endDate = '2020-12'\n",
    "\n",
    "start = datetime.strptime(startDate, '%Y-%m').date()\n",
    "end = datetime.strptime(endDate, '%Y-%m').date()\n",
    "\n",
    "datelist = []\n",
    "\n",
    "while start < end:\n",
    "    datelist.append(start)\n",
    "    start += relativedelta(months=1)"
   ]
  },
  {
   "cell_type": "code",
   "execution_count": 5,
   "metadata": {},
   "outputs": [
    {
     "data": {
      "text/plain": [
       "67"
      ]
     },
     "execution_count": 5,
     "metadata": {},
     "output_type": "execute_result"
    }
   ],
   "source": [
    "# Define how many months can be missing from a given country in the timeframe\n",
    "# Obtain list of countries to which we have sufficient data\n",
    "max_missing_months = 0\n",
    "countries_with_sufficient_data = []\n",
    "\n",
    "for country, dates in country_availability.items():\n",
    "    missing_months = 0\n",
    "    for j in datelist:\n",
    "        if j not in dates:\n",
    "            missing_months+=1\n",
    "    if missing_months<=max_missing_months:\n",
    "        countries_with_sufficient_data.append(country)\n",
    "\n",
    "len(countries_with_sufficient_data)"
   ]
  },
  {
   "cell_type": "code",
   "execution_count": 6,
   "metadata": {},
   "outputs": [],
   "source": [
    "#Export countries in batches of 5\n",
    "countries_string_in_fives = []\n",
    "for i in range(int(len(countries_with_sufficient_data)/5)+1):\n",
    "    countries_string_in_fives.append(\"%2C\".join(countries_with_sufficient_data[i*5:i*5+5]))\n",
    "\n",
    "exported_data_list = []\n",
    "for element1 in countries_string_in_fives:\n",
    "    for element2 in countries_string_in_fives:\n",
    "        # max - maximum records returned (default = 500) A valid integer in the range (Guest: [1, 100000], Authenticated: [1, account limit*], NOTE: Maximum limit is 250,000).\n",
    "        # type - trade data type (default = any) Valid values: C Commodities (merchandise trade data), S Services (trade in services data)\n",
    "        # freq - (default = any) data set frequency: Valid values: A Annual, M Monthly\n",
    "        # px - classification (default = any): Trade data classification scheme. HS Harmonized System (HS), as reported (e.g. if data was originally submitted to UN Comtrade in HS1996 then HS1996 is displayed)\n",
    "        # ps - time period (default = any): Depending on freq, time period can take either YYYY or YYYYMM\n",
    "        # r - (default = any) reporting area: the area that reported the trade to UNSD.\n",
    "        # p - partner area (default = all): partner area. The area receiving the trade, based on the reporting areas data.\n",
    "        # rg - trade regime / trade flow (default = all): The most common area 1 (imports) and 2 (exports)\n",
    "        # cc - classification code (default = AG2): a commodity code valid in the selected classification. Full lists of codes for each classification are linked to above under the px parameter.\n",
    "        #                                         Some codes are valid in all classifications: TOTAL - Total trade between reporter and partner, no detail breakdown.\n",
    "        exported_data = requests.get(f'https://comtrade.un.org/api/get?max=100000&type=C&freq=M&px=HS&ps=all&r={element1}&p={element2}&rg=2&cc=TOTAL')\n",
    "        if exported_data.status_code==200:\n",
    "            exported_data_list.append(exported_data)\n",
    "        else:\n",
    "            print(element1, element2)\n",
    "            break\n",
    "        time.sleep(40)\n",
    "\n",
    "with open('Input_datasets/exported_data_list_old.pickle', 'wb') as handle:\n",
    "    pickle.dump(exported_data_list, handle, protocol=pickle.HIGHEST_PROTOCOL)"
   ]
  },
  {
   "cell_type": "code",
   "execution_count": 9,
   "metadata": {},
   "outputs": [
    {
     "data": {
      "text/plain": [
       "196"
      ]
     },
     "execution_count": 9,
     "metadata": {},
     "output_type": "execute_result"
    }
   ],
   "source": [
    "len(exported_data_list)"
   ]
  },
  {
   "cell_type": "code",
   "execution_count": 10,
   "metadata": {},
   "outputs": [],
   "source": [
    "final_values = []\n",
    "\n",
    "for export in exported_data_list:\n",
    "    exported_data = export.json()['dataset']\n",
    "    for entry in exported_data:\n",
    "        final_values.append([entry['rtCode'], entry['ptCode'], entry['period'], entry['TradeValue']])\n",
    "\n",
    "final_df = pd.DataFrame(final_values, columns=['From', 'To', 'Period', 'Value'])\n",
    "\n",
    "datelist_string = [int(i.strftime('%Y%m')) for i in datelist]\n",
    "final_df = final_df[final_df['Period'].isin(datelist_string)].copy()\n",
    "\n",
    "final_df.to_csv('Input_datasets/trade_data_old.csv')"
   ]
  },
  {
   "cell_type": "markdown",
   "metadata": {},
   "source": [
    "# Using new API and imports on monthly level"
   ]
  },
  {
   "cell_type": "code",
   "execution_count": 15,
   "metadata": {},
   "outputs": [],
   "source": [
    "# Get country codes\n",
    "hdr ={\n",
    "    # Request headers\n",
    "    'Cache-Control': 'no-cache',\n",
    "    'Ocp-Apim-Subscription-Key': '66ced423d77f4e4bb92ea4c51a8b5c5f',\n",
    "    }\n",
    "\n",
    "country_codes = requests.get('https://comtradeapi.un.org/files/v1/app/reference/Reporters.json')\n",
    "country_codes = country_codes.text.encode().decode('utf-8-sig') \n",
    "country_codes = json.loads(country_codes)[\"results\"]\n",
    "\n",
    "with open('Input_datasets/country_codes_new.pickle', 'wb') as handle:\n",
    "    pickle.dump(country_codes, handle, protocol=pickle.HIGHEST_PROTOCOL)"
   ]
  },
  {
   "cell_type": "code",
   "execution_count": 47,
   "metadata": {},
   "outputs": [],
   "source": [
    "# Get monthly data availability for all countries\n",
    "\n",
    "# typeCode: C (commodity)\n",
    "# freqCode: M (monthly)\n",
    "# clCode: HS (Trade data classification scheme. HS Harmonized System)\n",
    "\n",
    "data_availability = requests.get('https://comtradeapi.un.org/data/v1/getDa/C/M/HS', headers=hdr)\n",
    "\n",
    "country_availability = defaultdict(list)\n",
    "\n",
    "for i in data_availability.json()['data']:\n",
    "    country_availability[i['reporterCode']].append(datetime.strptime(str(i['period']), '%Y%m').date())"
   ]
  },
  {
   "cell_type": "code",
   "execution_count": 48,
   "metadata": {},
   "outputs": [],
   "source": [
    "# Define datelist that will be the timeframe for our analysis\n",
    "startDate = '2011-01'\n",
    "endDate = '2020-12'\n",
    "\n",
    "start = datetime.strptime(startDate, '%Y-%m').date()\n",
    "end = datetime.strptime(endDate, '%Y-%m').date()\n",
    "\n",
    "datelist = []\n",
    "\n",
    "while start < end:\n",
    "    datelist.append(start)\n",
    "    start += relativedelta(months=1)"
   ]
  },
  {
   "cell_type": "code",
   "execution_count": 54,
   "metadata": {},
   "outputs": [
    {
     "data": {
      "text/plain": [
       "64"
      ]
     },
     "execution_count": 54,
     "metadata": {},
     "output_type": "execute_result"
    }
   ],
   "source": [
    "# Define how many months can be missing from a given country in the timeframe\n",
    "# Obtain list of countries to which we have sufficient data\n",
    "max_missing_months = 0\n",
    "countries_with_sufficient_data = []\n",
    "\n",
    "for country, dates in country_availability.items():\n",
    "    missing_months = 0\n",
    "    for j in datelist:\n",
    "        if j not in dates:\n",
    "            missing_months+=1\n",
    "    if missing_months<=max_missing_months:\n",
    "        countries_with_sufficient_data.append(str(country))\n",
    "\n",
    "len(countries_with_sufficient_data)"
   ]
  },
  {
   "cell_type": "code",
   "execution_count": 85,
   "metadata": {},
   "outputs": [],
   "source": [
    "datelist_string = [str(i.strftime('%Y%m')) for i in datelist]\n",
    "dates = ','.join(datelist_string)"
   ]
  },
  {
   "cell_type": "code",
   "execution_count": 89,
   "metadata": {},
   "outputs": [],
   "source": [
    "#Export countries in batches of 5 with new API\n",
    "countries_string_in_fives = []\n",
    "for i in range(int(len(countries_with_sufficient_data)/5)+1):\n",
    "    countries_string_in_fives.append(\",\".join(countries_with_sufficient_data[i*5:i*5+5]))\n",
    "\n",
    "exported_data_list = []\n",
    "for element1 in countries_string_in_fives:\n",
    "    for element2 in countries_string_in_fives:\n",
    "        exported_data = requests.get(f'https://comtradeapi.un.org/data/v1/get/C/M/HS?reporterCode={element1}&period={dates}&partnerCode={element2}&cmdCode=total&flowCode=M', headers=hdr)\n",
    "        if exported_data.status_code==200:\n",
    "            exported_data_list.append(exported_data)\n",
    "        else:\n",
    "            print(element1, element2)\n",
    "            break\n",
    "        time.sleep(40)\n",
    "\n",
    "with open('Input_datasets/exported_data_list_new_monthly_import.pickle', 'wb') as handle:\n",
    "    pickle.dump(exported_data_list, handle, protocol=pickle.HIGHEST_PROTOCOL)"
   ]
  },
  {
   "cell_type": "code",
   "execution_count": 90,
   "metadata": {},
   "outputs": [],
   "source": [
    "#At the most basic data record, up to three trade values could be presented according to following rules:\n",
    "#a) CIF value for imports would be assigned to “CIF Value”\n",
    "#b) When FOB value is reported for imports, it would be allocated to “FOB Value”\n",
    "#c) FOB value for exports would be allocated to “FOB Value”\n",
    "#For users’ convenience, a third (“primary”) trade value is generated by applying IMTS 2010 recommendation on valuation: if available CIF otherwise FOB for imports; FOB for exports, respectively.\n",
    "\n",
    "final_values = []\n",
    "\n",
    "for export in exported_data_list:\n",
    "    exported_data = export.json()['data']\n",
    "    for entry in exported_data:\n",
    "        final_values.append([entry['reporterCode'], entry['partnerCode'], entry['period'], entry['primaryValue']])\n",
    "\n",
    "final_df = pd.DataFrame(final_values, columns=['From', 'To', 'Period', 'Value'])\n",
    "\n",
    "#datelist_string = [int(i.strftime('%Y%m')) for i in datelist]\n",
    "#final_df = final_df[final_df['Period'].isin(datelist_string)].copy()\n",
    "\n",
    "final_df.to_csv('Input_datasets/trade_data_new_monthly_import.csv')"
   ]
  },
  {
   "cell_type": "markdown",
   "metadata": {},
   "source": [
    "# Using new API and imports on yearly level"
   ]
  },
  {
   "cell_type": "code",
   "execution_count": 2,
   "metadata": {},
   "outputs": [],
   "source": [
    "# Get country codes\n",
    "hdr ={\n",
    "    # Request headers\n",
    "    'Cache-Control': 'no-cache',\n",
    "    'Ocp-Apim-Subscription-Key': '66ced423d77f4e4bb92ea4c51a8b5c5f',\n",
    "    }\n",
    "\n",
    "country_codes = requests.get('https://comtradeapi.un.org/files/v1/app/reference/Reporters.json')\n",
    "country_codes = country_codes.text.encode().decode('utf-8-sig') \n",
    "country_codes = json.loads(country_codes)[\"results\"]\n",
    "\n",
    "#with open('Input_datasets/country_codes_new.pickle', 'wb') as handle:\n",
    "#    pickle.dump(country_codes, handle, protocol=pickle.HIGHEST_PROTOCOL)"
   ]
  },
  {
   "cell_type": "code",
   "execution_count": 3,
   "metadata": {},
   "outputs": [],
   "source": [
    "# Get yearly data availability for all countries\n",
    "\n",
    "# typeCode: C (commodity)\n",
    "# freqCode: A (annual)\n",
    "# clCode: HS (Trade data classification scheme. HS Harmonized System)\n",
    "\n",
    "data_availability = requests.get('https://comtradeapi.un.org/data/v1/getDa/C/A/HS', headers=hdr)\n",
    "\n",
    "country_availability = defaultdict(list)\n",
    "\n",
    "for i in data_availability.json()['data']:\n",
    "    country_availability[i['reporterCode']].append(datetime.strptime(str(i['period']), '%Y').date())"
   ]
  },
  {
   "cell_type": "code",
   "execution_count": 4,
   "metadata": {},
   "outputs": [],
   "source": [
    "# Define datelist that will be the timeframe for our analysis\n",
    "startDate = '1995'\n",
    "endDate = '2019'\n",
    "\n",
    "start = datetime.strptime(startDate, '%Y').date()\n",
    "end = datetime.strptime(endDate, '%Y').date()\n",
    "\n",
    "datelist = []\n",
    "\n",
    "while start <= end:\n",
    "    datelist.append(start)\n",
    "    start += relativedelta(years=1)"
   ]
  },
  {
   "cell_type": "code",
   "execution_count": 5,
   "metadata": {},
   "outputs": [
    {
     "data": {
      "text/plain": [
       "86"
      ]
     },
     "execution_count": 5,
     "metadata": {},
     "output_type": "execute_result"
    }
   ],
   "source": [
    "# Define how many years can be missing from a given country in the timeframe\n",
    "# Obtain list of countries to which we have sufficient data\n",
    "max_missing_years = 0\n",
    "countries_with_sufficient_data = []\n",
    "\n",
    "for country, dates in country_availability.items():\n",
    "    missing_years = 0\n",
    "    for j in datelist:\n",
    "        if j not in dates:\n",
    "            missing_years+=1\n",
    "    if missing_years<=max_missing_years:\n",
    "        countries_with_sufficient_data.append(str(country))\n",
    "\n",
    "len(countries_with_sufficient_data)"
   ]
  },
  {
   "cell_type": "code",
   "execution_count": 6,
   "metadata": {},
   "outputs": [],
   "source": [
    "datelist_string = [str(i.strftime('%Y')) for i in datelist]\n",
    "dates = ','.join(datelist_string)"
   ]
  },
  {
   "cell_type": "code",
   "execution_count": 7,
   "metadata": {},
   "outputs": [],
   "source": [
    "#Export countries in batches of 5 with new API\n",
    "countries_string_in_fives = []\n",
    "for i in range(int(len(countries_with_sufficient_data)/5)+1):\n",
    "    countries_string_in_fives.append(\",\".join(countries_with_sufficient_data[i*5:i*5+5]))\n",
    "\n",
    "def retry_if_connection_error(exception):\n",
    "    return isinstance(exception, ConnectionError)\n",
    "\n",
    "def retry_if_status_code_not_200(result):\n",
    "    return result.status_code!=200\n",
    "\n",
    "# if exception retry with 2 second wait  \n",
    "@retry(retry_on_exception=retry_if_connection_error, retry_on_result=retry_if_status_code_not_200, wait_fixed=2000)\n",
    "def safe_request(url, **kwargs):\n",
    "    return requests.get(url, **kwargs)\n",
    "\n",
    "exported_data_list = []\n",
    "for element1 in countries_string_in_fives:\n",
    "    for element2 in countries_string_in_fives:\n",
    "        exported_data = safe_request(f'https://comtradeapi.un.org/data/v1/get/C/A/HS?reporterCode={element1}&period={dates}&partnerCode={element2}&cmdCode=total&flowCode=M&breakdownMode=classic', headers=hdr)\n",
    "        exported_data_list.append(exported_data)\n",
    "        #try:\n",
    "        #    exported_data = requests.get(f'https://comtradeapi.un.org/data/v1/get/C/A/HS?reporterCode={element1}&period={dates}&partnerCode={element2}&cmdCode=total&flowCode=M', headers=hdr)\n",
    "        #    if exported_data.status_code==200:\n",
    "        #        exported_data_list.append(exported_data)\n",
    "        #    else:\n",
    "        #        print(element1, element2)\n",
    "        #        break\n",
    "        #except requests.exceptions.ConnectionError:\n",
    "        #    print(\"Connection error\")\n",
    "        #    print(f'https://comtradeapi.un.org/data/v1/get/C/A/HS?reporterCode={element1}&period={dates}&partnerCode={element2}&cmdCode=total&flowCode=M')\n",
    "        time.sleep(40)\n",
    "\n",
    "with open('exported_data_list_new_annual_import.pickle', 'wb') as handle:\n",
    "    pickle.dump(exported_data_list, handle, protocol=pickle.HIGHEST_PROTOCOL)"
   ]
  },
  {
   "cell_type": "code",
   "execution_count": 8,
   "metadata": {},
   "outputs": [],
   "source": [
    "#At the most basic data record, up to three trade values could be presented according to following rules:\n",
    "#a) CIF value for imports would be assigned to “CIF Value”\n",
    "#b) When FOB value is reported for imports, it would be allocated to “FOB Value”\n",
    "#c) FOB value for exports would be allocated to “FOB Value”\n",
    "#For users’ convenience, a third (“primary”) trade value is generated by applying IMTS 2010 recommendation on valuation: if available CIF otherwise FOB for imports; FOB for exports, respectively.\n",
    "\n",
    "final_values = []\n",
    "final_values_full = []\n",
    "\n",
    "for export in exported_data_list:\n",
    "    exported_data = export.json()['data']\n",
    "    for entry in exported_data:\n",
    "        final_values.append([entry['reporterCode'], entry['partnerCode'], entry['period'], entry['primaryValue']])\n",
    "        final_values_full.append(entry)\n",
    "\n",
    "final_df = pd.DataFrame(final_values, columns=['Reporter', 'Partner', 'Period', 'Value'])\n",
    "final_df_full = pd.DataFrame(final_values_full)\n",
    "\n",
    "#datelist_string = [int(i.strftime('%Y%m')) for i in datelist]\n",
    "#final_df = final_df[final_df['Period'].isin(datelist_string)].copy()\n",
    "\n",
    "final_df.to_csv('trade_data_new_annual_import.csv', index=False)\n",
    "final_df_full.to_csv('trade_data_new_annual_import_full_columns.csv', index=False)"
   ]
  },
  {
   "cell_type": "code",
   "execution_count": 11,
   "metadata": {},
   "outputs": [
    {
     "data": {
      "text/plain": [
       "(159723, 4)"
      ]
     },
     "execution_count": 11,
     "metadata": {},
     "output_type": "execute_result"
    }
   ],
   "source": [
    "final_df.shape"
   ]
  },
  {
   "cell_type": "code",
   "execution_count": 13,
   "metadata": {},
   "outputs": [
    {
     "data": {
      "text/plain": [
       "159723"
      ]
     },
     "execution_count": 13,
     "metadata": {},
     "output_type": "execute_result"
    }
   ],
   "source": [
    "len(set(list(zip(final_df.Reporter, final_df.Partner, final_df.Period))))"
   ]
  },
  {
   "cell_type": "code",
   "execution_count": 14,
   "metadata": {},
   "outputs": [],
   "source": [
    "# Add zero flows\n",
    "country_codes = set(final_df[\"Reporter\"]) | set(final_df[\"Partner\"])\n",
    "year_dates = set(final_df[\"Period\"])\n",
    "available_data = set(zip(final_df.Reporter, final_df.Partner, final_df.Period))\n",
    "all_data = set([(origin, destination, time_period) for origin in country_codes for destination in country_codes for time_period in year_dates])\n",
    "zero_flow_data = list(all_data - available_data)\n",
    "\n",
    "zero_flow_df = pd.DataFrame(zero_flow_data, columns =['Reporter', 'Partner', 'Period'])\n",
    "zero_flow_df['Value'] = 0\n",
    "\n",
    "final_df = pd.concat([final_df, zero_flow_df])\n",
    "final_df = final_df.sort_values(by=['Reporter', 'Partner', 'Period'])\n",
    "\n",
    "final_df['Value'] = final_df['Value'].astype('int64')\n",
    "\n",
    "final_df.to_csv('trade_data_new_annual_import_zero_padded.csv', index=False)"
   ]
  },
  {
   "cell_type": "code",
   "execution_count": 28,
   "metadata": {},
   "outputs": [
    {
     "data": {
      "text/plain": [
       "(184900, 4)"
      ]
     },
     "execution_count": 28,
     "metadata": {},
     "output_type": "execute_result"
    }
   ],
   "source": [
    "final_df.shape"
   ]
  },
  {
   "cell_type": "markdown",
   "metadata": {},
   "source": [
    "# Export country names that have annual trade data"
   ]
  },
  {
   "cell_type": "code",
   "execution_count": 19,
   "metadata": {},
   "outputs": [],
   "source": [
    "country_codes_dict = {}\n",
    "\n",
    "for element in country_codes:\n",
    "    country_codes_dict[element['id']] = element['text']\n",
    "\n",
    "country_names_to_work_with = []\n",
    "for country in countries_with_sufficient_data:\n",
    "    country_names_to_work_with.append([country, country_codes_dict[int(country)]])"
   ]
  },
  {
   "cell_type": "code",
   "execution_count": 23,
   "metadata": {},
   "outputs": [],
   "source": [
    "country_names_to_work_with_df = pd.DataFrame(country_names_to_work_with, columns=['ISO_3166-1_numeric_code', 'Country_name'])\n",
    "country_names_to_work_with_df.to_csv('Input_datasets/country_names_with_annual_trade_data.csv')"
   ]
  },
  {
   "cell_type": "code",
   "execution_count": 24,
   "metadata": {},
   "outputs": [
    {
     "data": {
      "text/html": [
       "<div>\n",
       "<style scoped>\n",
       "    .dataframe tbody tr th:only-of-type {\n",
       "        vertical-align: middle;\n",
       "    }\n",
       "\n",
       "    .dataframe tbody tr th {\n",
       "        vertical-align: top;\n",
       "    }\n",
       "\n",
       "    .dataframe thead th {\n",
       "        text-align: right;\n",
       "    }\n",
       "</style>\n",
       "<table border=\"1\" class=\"dataframe\">\n",
       "  <thead>\n",
       "    <tr style=\"text-align: right;\">\n",
       "      <th></th>\n",
       "      <th>ISO_3166-1_numeric_code</th>\n",
       "      <th>Country_name</th>\n",
       "    </tr>\n",
       "  </thead>\n",
       "  <tbody>\n",
       "    <tr>\n",
       "      <th>0</th>\n",
       "      <td>32</td>\n",
       "      <td>Argentina</td>\n",
       "    </tr>\n",
       "    <tr>\n",
       "      <th>1</th>\n",
       "      <td>36</td>\n",
       "      <td>Australia</td>\n",
       "    </tr>\n",
       "    <tr>\n",
       "      <th>2</th>\n",
       "      <td>40</td>\n",
       "      <td>Austria</td>\n",
       "    </tr>\n",
       "    <tr>\n",
       "      <th>3</th>\n",
       "      <td>68</td>\n",
       "      <td>Bolivia (Plurinational State of)</td>\n",
       "    </tr>\n",
       "    <tr>\n",
       "      <th>4</th>\n",
       "      <td>76</td>\n",
       "      <td>Brazil</td>\n",
       "    </tr>\n",
       "    <tr>\n",
       "      <th>...</th>\n",
       "      <td>...</td>\n",
       "      <td>...</td>\n",
       "    </tr>\n",
       "    <tr>\n",
       "      <th>81</th>\n",
       "      <td>834</td>\n",
       "      <td>United Rep. of Tanzania</td>\n",
       "    </tr>\n",
       "    <tr>\n",
       "      <th>82</th>\n",
       "      <td>842</td>\n",
       "      <td>USA</td>\n",
       "    </tr>\n",
       "    <tr>\n",
       "      <th>83</th>\n",
       "      <td>854</td>\n",
       "      <td>Burkina Faso</td>\n",
       "    </tr>\n",
       "    <tr>\n",
       "      <th>84</th>\n",
       "      <td>858</td>\n",
       "      <td>Uruguay</td>\n",
       "    </tr>\n",
       "    <tr>\n",
       "      <th>85</th>\n",
       "      <td>894</td>\n",
       "      <td>Zambia</td>\n",
       "    </tr>\n",
       "  </tbody>\n",
       "</table>\n",
       "<p>86 rows × 2 columns</p>\n",
       "</div>"
      ],
      "text/plain": [
       "   ISO_3166-1_numeric_code                      Country_name\n",
       "0                       32                         Argentina\n",
       "1                       36                         Australia\n",
       "2                       40                           Austria\n",
       "3                       68  Bolivia (Plurinational State of)\n",
       "4                       76                            Brazil\n",
       "..                     ...                               ...\n",
       "81                     834           United Rep. of Tanzania\n",
       "82                     842                               USA\n",
       "83                     854                      Burkina Faso\n",
       "84                     858                           Uruguay\n",
       "85                     894                            Zambia\n",
       "\n",
       "[86 rows x 2 columns]"
      ]
     },
     "execution_count": 24,
     "metadata": {},
     "output_type": "execute_result"
    }
   ],
   "source": [
    "country_names_to_work_with_df"
   ]
  },
  {
   "cell_type": "markdown",
   "metadata": {},
   "source": [
    "# Ad-hoc, messy stuff"
   ]
  },
  {
   "cell_type": "code",
   "execution_count": 3,
   "metadata": {},
   "outputs": [],
   "source": [
    "import pickle\n",
    "\n",
    "with open('Input_datasets/exported_data_list_new_monthly_import.pickle', 'rb') as handle:\n",
    "    exported_data_list = pickle.load(handle)\n"
   ]
  },
  {
   "cell_type": "code",
   "execution_count": 17,
   "metadata": {},
   "outputs": [
    {
     "data": {
      "text/plain": [
       "24649531.515"
      ]
     },
     "execution_count": 17,
     "metadata": {},
     "output_type": "execute_result"
    }
   ],
   "source": [
    "exported_data_list[0].json()['data'][0]['primaryValue']"
   ]
  },
  {
   "cell_type": "code",
   "execution_count": 70,
   "metadata": {},
   "outputs": [
    {
     "data": {
      "text/plain": [
       "dict_keys(['typeCode', 'freqCode', 'refPeriodId', 'refYear', 'refMonth', 'period', 'reporterCode', 'reporterISO', 'reporterDesc', 'flowCode', 'flowDesc', 'partnerCode', 'partnerISO', 'partnerDesc', 'partner2Code', 'partner2ISO', 'partner2Desc', 'classificationCode', 'classificationSearchCode', 'isOriginalClassification', 'cmdCode', 'cmdDesc', 'aggrLevel', 'isLeaf', 'customsCode', 'customsDesc', 'mosCode', 'motCode', 'motDesc', 'qtyUnitCode', 'qtyUnitAbbr', 'qty', 'isQtyEstimated', 'altQtyUnitCode', 'altQtyUnitAbbr', 'altQty', 'isAltQtyEstimated', 'netWgt', 'isNetWgtEstimated', 'grossWgt', 'isGrossWgtEstimated', 'cifvalue', 'fobvalue', 'primaryValue', 'legacyEstimationFlag', 'isReported', 'isAggregate'])"
      ]
     },
     "execution_count": 70,
     "metadata": {},
     "output_type": "execute_result"
    }
   ],
   "source": [
    "export.json()['data'][0].keys()"
   ]
  },
  {
   "cell_type": "code",
   "execution_count": 1,
   "metadata": {},
   "outputs": [
    {
     "ename": "NameError",
     "evalue": "name 'final_df' is not defined",
     "output_type": "error",
     "traceback": [
      "\u001b[0;31m---------------------------------------------------------------------------\u001b[0m",
      "\u001b[0;31mNameError\u001b[0m                                 Traceback (most recent call last)",
      "\u001b[1;32m/Users/rgyuri/Desktop/gnn_chapter/Data_extractor.ipynb Cell 19'\u001b[0m in \u001b[0;36m<cell line: 1>\u001b[0;34m()\u001b[0m\n\u001b[0;32m----> <a href='vscode-notebook-cell:/Users/rgyuri/Desktop/gnn_chapter/Data_extractor.ipynb#ch0000019?line=0'>1</a>\u001b[0m final_df[\u001b[39m'\u001b[39m\u001b[39mPeriod\u001b[39m\u001b[39m'\u001b[39m]\u001b[39m.\u001b[39munique()\n",
      "\u001b[0;31mNameError\u001b[0m: name 'final_df' is not defined"
     ]
    }
   ],
   "source": [
    "final_df['Period'].unique()"
   ]
  },
  {
   "cell_type": "code",
   "execution_count": 93,
   "metadata": {},
   "outputs": [
    {
     "data": {
      "text/plain": [
       "64"
      ]
     },
     "execution_count": 93,
     "metadata": {},
     "output_type": "execute_result"
    }
   ],
   "source": [
    "len(final_df['From'].unique())"
   ]
  },
  {
   "cell_type": "code",
   "execution_count": 94,
   "metadata": {},
   "outputs": [
    {
     "data": {
      "text/plain": [
       "63"
      ]
     },
     "execution_count": 94,
     "metadata": {},
     "output_type": "execute_result"
    }
   ],
   "source": [
    "len(final_df['To'].unique())"
   ]
  },
  {
   "cell_type": "code",
   "execution_count": 95,
   "metadata": {},
   "outputs": [
    {
     "data": {
      "text/plain": [
       "{97}"
      ]
     },
     "execution_count": 95,
     "metadata": {},
     "output_type": "execute_result"
    }
   ],
   "source": [
    "set(final_df['From'].unique()) - set(final_df['To'].unique())"
   ]
  },
  {
   "cell_type": "code",
   "execution_count": null,
   "metadata": {},
   "outputs": [],
   "source": []
  }
 ],
 "metadata": {
  "interpreter": {
   "hash": "bac1c141dd677d21aa3d7e112522370869da97ef62e316f915c40dc907532f18"
  },
  "kernelspec": {
   "display_name": "Python 3.10.2 64-bit ('3.10.2')",
   "language": "python",
   "name": "python3"
  },
  "language_info": {
   "codemirror_mode": {
    "name": "ipython",
    "version": 3
   },
   "file_extension": ".py",
   "mimetype": "text/x-python",
   "name": "python",
   "nbconvert_exporter": "python",
   "pygments_lexer": "ipython3",
   "version": "3.10.2"
  },
  "orig_nbformat": 4
 },
 "nbformat": 4,
 "nbformat_minor": 2
}
