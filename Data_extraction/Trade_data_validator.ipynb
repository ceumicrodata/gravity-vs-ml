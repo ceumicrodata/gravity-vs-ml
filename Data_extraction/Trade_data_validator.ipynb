{
 "cells": [
  {
   "cell_type": "markdown",
   "metadata": {},
   "source": [
    "# This notebook validates the yearly trade data scraped from Comtrade"
   ]
  },
  {
   "cell_type": "code",
   "execution_count": 43,
   "metadata": {},
   "outputs": [],
   "source": [
    "import pandas as pd\n",
    "import numpy\n",
    "import requests\n",
    "import json\n",
    "import codecs\n",
    "import pickle\n",
    "from collections import defaultdict\n",
    "from datetime import datetime\n",
    "from dateutil.relativedelta import relativedelta\n",
    "import time\n"
   ]
  },
  {
   "cell_type": "code",
   "execution_count": 44,
   "metadata": {},
   "outputs": [],
   "source": [
    "yearly_trade_data = pd.read_csv('Input_datasets/trade_data_new_annual_import.csv')\n",
    "yearly_trade_data = yearly_trade_data.drop(columns='Unnamed: 0')"
   ]
  },
  {
   "cell_type": "code",
   "execution_count": 45,
   "metadata": {},
   "outputs": [],
   "source": [
    "yearly_trade_data_full = pd.read_csv('Input_datasets/trade_data_new_annual_import.csv')"
   ]
  },
  {
   "cell_type": "code",
   "execution_count": 48,
   "metadata": {},
   "outputs": [
    {
     "name": "stdout",
     "output_type": "stream",
     "text": [
      "(1402122, 4)\n",
      "(1402122, 5)\n"
     ]
    }
   ],
   "source": [
    "print(yearly_trade_data.shape)\n",
    "print(yearly_trade_data_full.shape)"
   ]
  },
  {
   "cell_type": "code",
   "execution_count": 39,
   "metadata": {},
   "outputs": [
    {
     "name": "stdout",
     "output_type": "stream",
     "text": [
      "set()\n",
      "set()\n"
     ]
    }
   ],
   "source": [
    "reporter_countries = set(yearly_trade_data['From'].unique())\n",
    "partner_countries = set(yearly_trade_data['To'].unique())\n",
    "\n",
    "print(reporter_countries - partner_countries)\n",
    "print(partner_countries - reporter_countries)\n",
    "\n",
    "years = set(yearly_trade_data['Period'].unique())\n",
    "\n",
    "all_pairs = []\n",
    "for i in reporter_countries:\n",
    "    for j in partner_countries:\n",
    "        for k in years:\n",
    "            if i!=j:\n",
    "                all_pairs.append((i,j,k))\n",
    "all_pairs = set(all_pairs)\n",
    "\n",
    "real_pairs = set(list(yearly_trade_data[['From', 'To', 'Period']].itertuples(index=False, name=None)))"
   ]
  },
  {
   "cell_type": "code",
   "execution_count": 40,
   "metadata": {},
   "outputs": [
    {
     "data": {
      "text/plain": [
       "55358"
      ]
     },
     "execution_count": 40,
     "metadata": {},
     "output_type": "execute_result"
    }
   ],
   "source": [
    "len(all_pairs - real_pairs)"
   ]
  },
  {
   "cell_type": "code",
   "execution_count": 41,
   "metadata": {},
   "outputs": [
    {
     "data": {
      "text/plain": [
       "279"
      ]
     },
     "execution_count": 41,
     "metadata": {},
     "output_type": "execute_result"
    }
   ],
   "source": [
    "len(real_pairs - all_pairs)"
   ]
  },
  {
   "cell_type": "code",
   "execution_count": 36,
   "metadata": {},
   "outputs": [
    {
     "data": {
      "text/plain": [
       "182750"
      ]
     },
     "execution_count": 36,
     "metadata": {},
     "output_type": "execute_result"
    }
   ],
   "source": [
    "len(all_pairs)"
   ]
  },
  {
   "cell_type": "code",
   "execution_count": 18,
   "metadata": {},
   "outputs": [
    {
     "data": {
      "text/html": [
       "<div>\n",
       "<style scoped>\n",
       "    .dataframe tbody tr th:only-of-type {\n",
       "        vertical-align: middle;\n",
       "    }\n",
       "\n",
       "    .dataframe tbody tr th {\n",
       "        vertical-align: top;\n",
       "    }\n",
       "\n",
       "    .dataframe thead th {\n",
       "        text-align: right;\n",
       "    }\n",
       "</style>\n",
       "<table border=\"1\" class=\"dataframe\">\n",
       "  <thead>\n",
       "    <tr style=\"text-align: right;\">\n",
       "      <th></th>\n",
       "      <th>From</th>\n",
       "      <th>To</th>\n",
       "      <th>Period</th>\n",
       "      <th>Value</th>\n",
       "    </tr>\n",
       "  </thead>\n",
       "  <tbody>\n",
       "    <tr>\n",
       "      <th>0</th>\n",
       "      <td>36</td>\n",
       "      <td>32</td>\n",
       "      <td>1995</td>\n",
       "      <td>5.487989e+07</td>\n",
       "    </tr>\n",
       "    <tr>\n",
       "      <th>1</th>\n",
       "      <td>40</td>\n",
       "      <td>32</td>\n",
       "      <td>1995</td>\n",
       "      <td>2.056812e+07</td>\n",
       "    </tr>\n",
       "    <tr>\n",
       "      <th>2</th>\n",
       "      <td>68</td>\n",
       "      <td>32</td>\n",
       "      <td>1995</td>\n",
       "      <td>1.173860e+08</td>\n",
       "    </tr>\n",
       "    <tr>\n",
       "      <th>3</th>\n",
       "      <td>76</td>\n",
       "      <td>32</td>\n",
       "      <td>1995</td>\n",
       "      <td>5.749807e+09</td>\n",
       "    </tr>\n",
       "    <tr>\n",
       "      <th>4</th>\n",
       "      <td>32</td>\n",
       "      <td>36</td>\n",
       "      <td>1995</td>\n",
       "      <td>1.217753e+08</td>\n",
       "    </tr>\n",
       "    <tr>\n",
       "      <th>...</th>\n",
       "      <td>...</td>\n",
       "      <td>...</td>\n",
       "      <td>...</td>\n",
       "      <td>...</td>\n",
       "    </tr>\n",
       "    <tr>\n",
       "      <th>1402117</th>\n",
       "      <td>894</td>\n",
       "      <td>32</td>\n",
       "      <td>2019</td>\n",
       "      <td>4.715000e+03</td>\n",
       "    </tr>\n",
       "    <tr>\n",
       "      <th>1402118</th>\n",
       "      <td>894</td>\n",
       "      <td>68</td>\n",
       "      <td>2019</td>\n",
       "      <td>2.800000e+01</td>\n",
       "    </tr>\n",
       "    <tr>\n",
       "      <th>1402119</th>\n",
       "      <td>894</td>\n",
       "      <td>40</td>\n",
       "      <td>2019</td>\n",
       "      <td>5.352645e+06</td>\n",
       "    </tr>\n",
       "    <tr>\n",
       "      <th>1402120</th>\n",
       "      <td>894</td>\n",
       "      <td>76</td>\n",
       "      <td>2019</td>\n",
       "      <td>2.598063e+06</td>\n",
       "    </tr>\n",
       "    <tr>\n",
       "      <th>1402121</th>\n",
       "      <td>894</td>\n",
       "      <td>32</td>\n",
       "      <td>2019</td>\n",
       "      <td>1.430058e+06</td>\n",
       "    </tr>\n",
       "  </tbody>\n",
       "</table>\n",
       "<p>1402122 rows × 4 columns</p>\n",
       "</div>"
      ],
      "text/plain": [
       "         From  To  Period         Value\n",
       "0          36  32    1995  5.487989e+07\n",
       "1          40  32    1995  2.056812e+07\n",
       "2          68  32    1995  1.173860e+08\n",
       "3          76  32    1995  5.749807e+09\n",
       "4          32  36    1995  1.217753e+08\n",
       "...       ...  ..     ...           ...\n",
       "1402117   894  32    2019  4.715000e+03\n",
       "1402118   894  68    2019  2.800000e+01\n",
       "1402119   894  40    2019  5.352645e+06\n",
       "1402120   894  76    2019  2.598063e+06\n",
       "1402121   894  32    2019  1.430058e+06\n",
       "\n",
       "[1402122 rows x 4 columns]"
      ]
     },
     "execution_count": 18,
     "metadata": {},
     "output_type": "execute_result"
    }
   ],
   "source": [
    "yearly_trade_data"
   ]
  },
  {
   "cell_type": "code",
   "execution_count": 15,
   "metadata": {},
   "outputs": [
    {
     "data": {
      "text/plain": [
       "array([ 36,  40,  68,  76,  32,  84, 108, 124, 152, 140, 156, 170, 174,\n",
       "       188, 191, 196, 203, 208, 218, 222, 233, 246, 251, 270, 276, 300,\n",
       "       308, 320, 344, 348, 352, 360, 372, 376, 380, 384, 392, 410, 428,\n",
       "       398, 440, 446, 450, 454, 458, 462, 470, 480, 484, 498, 504, 512,\n",
       "       528, 554, 558, 562, 579, 591, 600, 604, 616, 620, 642, 662, 670,\n",
       "       690, 699, 702, 703, 705, 724, 752, 757, 764, 780, 788, 792, 800,\n",
       "       807, 818, 826, 834, 842, 854, 858, 894])"
      ]
     },
     "execution_count": 15,
     "metadata": {},
     "output_type": "execute_result"
    }
   ],
   "source": [
    "reporter_countries"
   ]
  },
  {
   "cell_type": "code",
   "execution_count": 11,
   "metadata": {},
   "outputs": [
    {
     "name": "stdout",
     "output_type": "stream",
     "text": [
      "Number of restaurants in New York: {'type': 'count', 'id': 0, 'tags': {'nodes': '1483', 'ways': '0', 'relations': '0', 'areas': '0', 'total': '1483'}}\n"
     ]
    }
   ],
   "source": [
    "import requests\n",
    "\n",
    "def get_restaurant_count(city):\n",
    "    overpass_url = \"https://overpass-api.de/api/interpreter\"\n",
    "    overpass_query = f\"\"\"\n",
    "    [out:json];\n",
    "    area[\"name\"=\"{city}\"]->.searchArea;\n",
    "    (\n",
    "      node[\"amenity\"=\"restaurant\"](area.searchArea);\n",
    "    );\n",
    "    out count;\n",
    "    \"\"\"\n",
    "    response = requests.get(overpass_url, params={'data': overpass_query})\n",
    "    data = response.json()\n",
    "    return data['elements'][0]\n",
    "\n",
    "print(\"Number of restaurants in New York:\", get_restaurant_count(\"Budapest\"))"
   ]
  },
  {
   "cell_type": "code",
   "execution_count": null,
   "metadata": {},
   "outputs": [],
   "source": []
  }
 ],
 "metadata": {
  "interpreter": {
   "hash": "bac1c141dd677d21aa3d7e112522370869da97ef62e316f915c40dc907532f18"
  },
  "kernelspec": {
   "display_name": "Python 3.10.2 64-bit ('3.10.2')",
   "language": "python",
   "name": "python3"
  },
  "language_info": {
   "codemirror_mode": {
    "name": "ipython",
    "version": 3
   },
   "file_extension": ".py",
   "mimetype": "text/x-python",
   "name": "python",
   "nbconvert_exporter": "python",
   "pygments_lexer": "ipython3",
   "version": "3.10.2 (main, Mar  4 2022, 19:00:46) [Clang 12.0.0 (clang-1200.0.32.29)]"
  },
  "orig_nbformat": 4
 },
 "nbformat": 4,
 "nbformat_minor": 2
}
